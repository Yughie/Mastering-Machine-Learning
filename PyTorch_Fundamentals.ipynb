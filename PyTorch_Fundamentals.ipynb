import nbformat

# Load the notebook
try:
    with open('path_to_your_notebook.ipynb', 'r', encoding='utf-8') as f:
        notebook = nbformat.read(f, as_version=4)
    print("Notebook is valid JSON and loaded successfully.")
except Exception as e:
    print(f"Error loading notebook: {e}")

# Save it back to repair
with open('repaired_notebook.ipynb', 'w', encoding='utf-8') as f:
    nbformat.write(notebook, f)
print("Notebook has been repaired and saved.")
