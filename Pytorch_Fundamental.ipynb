{
  "nbformat": 4,
  "nbformat_minor": 0,
  "metadata": {
    "colab": {
      "provenance": [],
      "gpuType": "T4",
      "authorship_tag": "ABX9TyP1UlLoEaUrsjlAD6t1/BVB",
      "include_colab_link": true
    },
    "kernelspec": {
      "name": "python3",
      "display_name": "Python 3"
    },
    "language_info": {
      "name": "python"
    }
  },
  "cells": [
    {
      "cell_type": "markdown",
      "metadata": {
        "id": "view-in-github",
        "colab_type": "text"
      },
      "source": [
        "<a href=\"https://colab.research.google.com/github/Yughie/Mastering-Machine-Learning/blob/main/Pytorch_Fundamental.ipynb\" target=\"_parent\"><img src=\"https://colab.research.google.com/assets/colab-badge.svg\" alt=\"Open In Colab\"/></a>"
      ]
    },
    {
      "cell_type": "markdown",
      "source": [
        "## 00. PyTorch Fundamentals\n",
        "\n",
        "Resources: https://www.learnpytorch.io/00_pytorch_fundamentals/"
      ],
      "metadata": {
        "id": "XDKn3Tv_9DIn"
      }
    },
    {
      "cell_type": "code",
      "execution_count": 3,
      "metadata": {
        "colab": {
          "base_uri": "https://localhost:8080/"
        },
        "id": "Guiuc24L5XJu",
        "outputId": "9d3c83e4-cd02-4814-ba0d-8b132dde4e2b"
      },
      "outputs": [
        {
          "output_type": "stream",
          "name": "stdout",
          "text": [
            "2.5.1+cu121\n"
          ]
        }
      ],
      "source": [
        "import torch\n",
        "import pandas as pd\n",
        "import numpy as np\n",
        "import matplotlib.pyplot as plt\n",
        "print(torch.__version__)"
      ]
    },
    {
      "cell_type": "markdown",
      "source": [
        "\n",
        "##Introduction to Tensors\n",
        "\n",
        "###Creating tensors\n",
        "PyTorch tensors are created using the command 'torch.Tensor()'"
      ],
      "metadata": {
        "id": "dtMUtkVx5rtK"
      }
    },
    {
      "cell_type": "code",
      "source": [
        "#scalar\n",
        "scalar = torch.tensor(7)\n",
        "scalar"
      ],
      "metadata": {
        "id": "0ojsjoHQ-uHq",
        "outputId": "53b75d23-4f06-4792-a1ea-00ee2c9b7c03",
        "colab": {
          "base_uri": "https://localhost:8080/"
        }
      },
      "execution_count": 4,
      "outputs": [
        {
          "output_type": "execute_result",
          "data": {
            "text/plain": [
              "tensor(7)"
            ]
          },
          "metadata": {},
          "execution_count": 4
        }
      ]
    },
    {
      "cell_type": "code",
      "source": [
        "#Get number of dimention\n",
        "scalar.ndim"
      ],
      "metadata": {
        "id": "eEDxaxKm-3p-",
        "outputId": "a5ec7abb-965d-42ef-c33b-ad16f1bb8ec9",
        "colab": {
          "base_uri": "https://localhost:8080/"
        }
      },
      "execution_count": 5,
      "outputs": [
        {
          "output_type": "execute_result",
          "data": {
            "text/plain": [
              "0"
            ]
          },
          "metadata": {},
          "execution_count": 5
        }
      ]
    },
    {
      "cell_type": "code",
      "source": [
        "# Get tensior back as Python int\n",
        "scalar.item()"
      ],
      "metadata": {
        "id": "ysHhiQx9_-iA",
        "outputId": "909ecf8f-37fb-4176-e9aa-68e9979344d1",
        "colab": {
          "base_uri": "https://localhost:8080/"
        }
      },
      "execution_count": 6,
      "outputs": [
        {
          "output_type": "execute_result",
          "data": {
            "text/plain": [
              "7"
            ]
          },
          "metadata": {},
          "execution_count": 6
        }
      ]
    },
    {
      "cell_type": "code",
      "source": [
        "vector = torch.tensor([7,7])\n",
        "vector"
      ],
      "metadata": {
        "id": "XXQzAJJYAREv",
        "outputId": "529a57af-b9af-45a3-f6ce-8b106a0cc418",
        "colab": {
          "base_uri": "https://localhost:8080/"
        }
      },
      "execution_count": 7,
      "outputs": [
        {
          "output_type": "execute_result",
          "data": {
            "text/plain": [
              "tensor([7, 7])"
            ]
          },
          "metadata": {},
          "execution_count": 7
        }
      ]
    },
    {
      "cell_type": "code",
      "source": [
        "vector.ndim"
      ],
      "metadata": {
        "id": "LXE34h5LAmwJ",
        "outputId": "708720f6-70d2-4800-df51-b0e77caa030a",
        "colab": {
          "base_uri": "https://localhost:8080/"
        }
      },
      "execution_count": 8,
      "outputs": [
        {
          "output_type": "execute_result",
          "data": {
            "text/plain": [
              "1"
            ]
          },
          "metadata": {},
          "execution_count": 8
        }
      ]
    },
    {
      "cell_type": "code",
      "source": [
        "vector.shape"
      ],
      "metadata": {
        "id": "cVrTTKGfAzfQ",
        "outputId": "04d2089c-d0e4-4b62-edff-dc0a49f5a6b6",
        "colab": {
          "base_uri": "https://localhost:8080/"
        }
      },
      "execution_count": 9,
      "outputs": [
        {
          "output_type": "execute_result",
          "data": {
            "text/plain": [
              "torch.Size([2])"
            ]
          },
          "metadata": {},
          "execution_count": 9
        }
      ]
    },
    {
      "cell_type": "code",
      "source": [
        "#MATRIX\n",
        "\n",
        "MATRIX = torch.tensor([[7,8],\n",
        "                       [9,10]])\n",
        "MATRIX"
      ],
      "metadata": {
        "id": "IXRFXUpZA1fh",
        "outputId": "11ed9d07-45db-4d24-fef2-783abb96fdf3",
        "colab": {
          "base_uri": "https://localhost:8080/"
        }
      },
      "execution_count": 10,
      "outputs": [
        {
          "output_type": "execute_result",
          "data": {
            "text/plain": [
              "tensor([[ 7,  8],\n",
              "        [ 9, 10]])"
            ]
          },
          "metadata": {},
          "execution_count": 10
        }
      ]
    },
    {
      "cell_type": "code",
      "source": [
        "MATRIX.ndim"
      ],
      "metadata": {
        "id": "tmOg0-cGBGKA",
        "outputId": "266b5f15-7c04-4377-89a8-f00c5096c140",
        "colab": {
          "base_uri": "https://localhost:8080/"
        }
      },
      "execution_count": 11,
      "outputs": [
        {
          "output_type": "execute_result",
          "data": {
            "text/plain": [
              "2"
            ]
          },
          "metadata": {},
          "execution_count": 11
        }
      ]
    },
    {
      "cell_type": "code",
      "source": [
        "MATRIX[0]"
      ],
      "metadata": {
        "id": "deyFQC0eFT6B",
        "outputId": "f2c5052c-2d9a-466b-9893-d8fdfe8d9d4d",
        "colab": {
          "base_uri": "https://localhost:8080/"
        }
      },
      "execution_count": 12,
      "outputs": [
        {
          "output_type": "execute_result",
          "data": {
            "text/plain": [
              "tensor([7, 8])"
            ]
          },
          "metadata": {},
          "execution_count": 12
        }
      ]
    },
    {
      "cell_type": "code",
      "source": [
        "MATRIX.shape"
      ],
      "metadata": {
        "id": "KRbIhHEBFZDK",
        "outputId": "3e1b9711-c3cb-43e0-812e-721020675479",
        "colab": {
          "base_uri": "https://localhost:8080/"
        }
      },
      "execution_count": 13,
      "outputs": [
        {
          "output_type": "execute_result",
          "data": {
            "text/plain": [
              "torch.Size([2, 2])"
            ]
          },
          "metadata": {},
          "execution_count": 13
        }
      ]
    },
    {
      "cell_type": "code",
      "source": [
        "#TENSOR\n",
        "TENSOR = torch.tensor([[[1, 2, 3],\n",
        "                        [4, 5, 6],\n",
        "                        [7, 8, 9]],\n",
        "\n",
        "                        [[10,11,12],\n",
        "                         [13,14,15],\n",
        "                         [16,17,18]]])\n",
        "TENSOR"
      ],
      "metadata": {
        "id": "iQ7RnnBEFgRt",
        "outputId": "98f05937-cff7-41d6-8805-cf03655b88d2",
        "colab": {
          "base_uri": "https://localhost:8080/"
        }
      },
      "execution_count": 14,
      "outputs": [
        {
          "output_type": "execute_result",
          "data": {
            "text/plain": [
              "tensor([[[ 1,  2,  3],\n",
              "         [ 4,  5,  6],\n",
              "         [ 7,  8,  9]],\n",
              "\n",
              "        [[10, 11, 12],\n",
              "         [13, 14, 15],\n",
              "         [16, 17, 18]]])"
            ]
          },
          "metadata": {},
          "execution_count": 14
        }
      ]
    },
    {
      "cell_type": "code",
      "source": [
        "TENSOR[1][1][1]"
      ],
      "metadata": {
        "id": "hlF0SLhuGQY8",
        "outputId": "585712f0-a9c6-4bb6-b5b6-5196a5c41c26",
        "colab": {
          "base_uri": "https://localhost:8080/"
        }
      },
      "execution_count": 15,
      "outputs": [
        {
          "output_type": "execute_result",
          "data": {
            "text/plain": [
              "tensor(14)"
            ]
          },
          "metadata": {},
          "execution_count": 15
        }
      ]
    },
    {
      "cell_type": "code",
      "source": [
        "TENSOR.ndim"
      ],
      "metadata": {
        "id": "LAvwYUUyGSiE",
        "outputId": "e6d0fc5d-d481-40ed-e9c7-17ad557e3940",
        "colab": {
          "base_uri": "https://localhost:8080/"
        }
      },
      "execution_count": 16,
      "outputs": [
        {
          "output_type": "execute_result",
          "data": {
            "text/plain": [
              "3"
            ]
          },
          "metadata": {},
          "execution_count": 16
        }
      ]
    },
    {
      "cell_type": "code",
      "source": [
        "TENSOR.shape"
      ],
      "metadata": {
        "id": "behXO306G9-x",
        "outputId": "da98aab3-9b12-494c-d2b1-4e18edf70645",
        "colab": {
          "base_uri": "https://localhost:8080/"
        }
      },
      "execution_count": 17,
      "outputs": [
        {
          "output_type": "execute_result",
          "data": {
            "text/plain": [
              "torch.Size([2, 3, 3])"
            ]
          },
          "metadata": {},
          "execution_count": 17
        }
      ]
    },
    {
      "cell_type": "markdown",
      "source": [
        "### RANDOM TENSORS CONCEPT\n",
        "\n",
        "Why random tensors?\n",
        "- it is important because many neural network usually start with random set of numbers and then process it to better represent the data.\n",
        "\n",
        "\n",
        "Process:\n",
        "\n",
        "1. Start with random numbers\n",
        "2. Look at data\n",
        "3. Update random number\n",
        "4. Look at data\n",
        "5. Update random numbers"
      ],
      "metadata": {
        "id": "NUHmnovyHD4U"
      }
    },
    {
      "cell_type": "code",
      "source": [
        "# Create a random tensor of shape (3,4)\n",
        "\n",
        "random_tensor = torch.rand(3, 10,4)\n",
        "random_tensor"
      ],
      "metadata": {
        "id": "edHdW5E1KqZZ",
        "outputId": "262b8249-a6f6-43f4-a906-187f75a4c86f",
        "colab": {
          "base_uri": "https://localhost:8080/"
        }
      },
      "execution_count": 18,
      "outputs": [
        {
          "output_type": "execute_result",
          "data": {
            "text/plain": [
              "tensor([[[0.3785, 0.7069, 0.0817, 0.2617],\n",
              "         [0.2016, 0.7562, 0.0295, 0.9206],\n",
              "         [0.6549, 0.8093, 0.7682, 0.4148],\n",
              "         [0.3466, 0.1339, 0.7369, 0.7347],\n",
              "         [0.2524, 0.7515, 0.9894, 0.7400],\n",
              "         [0.1849, 0.5822, 0.4975, 0.3628],\n",
              "         [0.9953, 0.1443, 0.3863, 0.9604],\n",
              "         [0.6529, 0.5799, 0.4578, 0.6354],\n",
              "         [0.4285, 0.0096, 0.2137, 0.3340],\n",
              "         [0.2183, 0.5305, 0.4896, 0.4537]],\n",
              "\n",
              "        [[0.7033, 0.6327, 0.5888, 0.7876],\n",
              "         [0.7738, 0.4364, 0.4534, 0.7882],\n",
              "         [0.4909, 0.7753, 0.1561, 0.9310],\n",
              "         [0.0099, 0.2149, 0.4812, 0.4997],\n",
              "         [0.5857, 0.0492, 0.2197, 0.0218],\n",
              "         [0.5470, 0.3559, 0.4507, 0.3776],\n",
              "         [0.0353, 0.8445, 0.8341, 0.3749],\n",
              "         [0.8279, 0.4408, 0.7072, 0.7899],\n",
              "         [0.2422, 0.0161, 0.8324, 0.5290],\n",
              "         [0.6219, 0.1351, 0.7319, 0.6912]],\n",
              "\n",
              "        [[0.3586, 0.7546, 0.9301, 0.5529],\n",
              "         [0.4965, 0.5745, 0.9323, 0.9155],\n",
              "         [0.5306, 0.8524, 0.3782, 0.9173],\n",
              "         [0.6675, 0.1912, 0.8312, 0.5401],\n",
              "         [0.3901, 0.7449, 0.9128, 0.1184],\n",
              "         [0.0697, 0.5553, 0.5418, 0.5203],\n",
              "         [0.9587, 0.1544, 0.4622, 0.9467],\n",
              "         [0.0061, 0.5515, 0.7777, 0.3223],\n",
              "         [0.6949, 0.3595, 0.8972, 0.7117],\n",
              "         [0.1827, 0.2925, 0.0530, 0.6499]]])"
            ]
          },
          "metadata": {},
          "execution_count": 18
        }
      ]
    },
    {
      "cell_type": "code",
      "source": [
        "# Create a random tensor with shape similar to image tensor\n",
        "random_image_size_tensor = torch.rand(3, 244, 244)\n",
        "random_image_size_tensor.shape , random_image_size_tensor.ndim"
      ],
      "metadata": {
        "id": "_VyhahtMLy6N",
        "outputId": "53b65bcd-b0f5-40e8-9d1b-79c55f547319",
        "colab": {
          "base_uri": "https://localhost:8080/"
        }
      },
      "execution_count": 22,
      "outputs": [
        {
          "output_type": "execute_result",
          "data": {
            "text/plain": [
              "(torch.Size([3, 244, 244]), 3)"
            ]
          },
          "metadata": {},
          "execution_count": 22
        }
      ]
    },
    {
      "cell_type": "code",
      "source": [
        "random_image_size_tensor"
      ],
      "metadata": {
        "id": "MzRFrYQzMvv4",
        "outputId": "922c4f97-159c-4148-d206-b984e2a9c567",
        "colab": {
          "base_uri": "https://localhost:8080/"
        }
      },
      "execution_count": 23,
      "outputs": [
        {
          "output_type": "execute_result",
          "data": {
            "text/plain": [
              "tensor([[[0.1932, 0.3776, 0.4614,  ..., 0.7411, 0.9378, 0.8186],\n",
              "         [0.9562, 0.4780, 0.3852,  ..., 0.3483, 0.1331, 0.5338],\n",
              "         [0.3097, 0.4154, 0.8109,  ..., 0.2650, 0.9504, 0.6116],\n",
              "         ...,\n",
              "         [0.4165, 0.7012, 0.3667,  ..., 0.5478, 0.9193, 0.3841],\n",
              "         [0.7720, 0.5780, 0.0145,  ..., 0.7832, 0.8483, 0.9007],\n",
              "         [0.7888, 0.8950, 0.3346,  ..., 0.5593, 0.4878, 0.7319]],\n",
              "\n",
              "        [[0.8785, 0.0281, 0.9283,  ..., 0.5572, 0.4376, 0.8626],\n",
              "         [0.1346, 0.1043, 0.9610,  ..., 0.1668, 0.2382, 0.9972],\n",
              "         [0.9321, 0.4350, 0.5364,  ..., 0.5698, 0.8084, 0.5476],\n",
              "         ...,\n",
              "         [0.1398, 0.1408, 0.1298,  ..., 0.8926, 0.9135, 0.1557],\n",
              "         [0.5354, 0.6838, 0.8911,  ..., 0.8972, 0.8476, 0.9880],\n",
              "         [0.0961, 0.7751, 0.1842,  ..., 0.8222, 0.1914, 0.1421]],\n",
              "\n",
              "        [[0.2259, 0.0697, 0.3757,  ..., 0.7434, 0.8858, 0.0140],\n",
              "         [0.5213, 0.5335, 0.6538,  ..., 0.7538, 0.0529, 0.3441],\n",
              "         [0.1718, 0.5835, 0.6096,  ..., 0.6655, 0.7961, 0.9113],\n",
              "         ...,\n",
              "         [0.8244, 0.3291, 0.7760,  ..., 0.7883, 0.4486, 0.1011],\n",
              "         [0.7288, 0.0471, 0.1872,  ..., 0.5998, 0.0286, 0.1829],\n",
              "         [0.6431, 0.0817, 0.2984,  ..., 0.1000, 0.5129, 0.2849]]])"
            ]
          },
          "metadata": {},
          "execution_count": 23
        }
      ]
    },
    {
      "cell_type": "code",
      "source": [],
      "metadata": {
        "id": "_l_cSkU2NXoj"
      },
      "execution_count": null,
      "outputs": []
    }
  ]
}