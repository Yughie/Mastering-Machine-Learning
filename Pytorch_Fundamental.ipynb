{
  "nbformat": 4,
  "nbformat_minor": 0,
  "metadata": {
    "colab": {
      "provenance": [],
      "gpuType": "T4",
      "authorship_tag": "ABX9TyOwx8Ch3n+t9hMvgFaA85pn"
    },
    "kernelspec": {
      "name": "python3",
      "display_name": "Python 3"
    },
    "language_info": {
      "name": "python"
    }
  },
  "cells": [
    {
      "cell_type": "markdown",
      "source": [
        "## 00. PyTorch Fundamentals\n",
        "\n",
        "Resources: https://www.learnpytorch.io/00_pytorch_fundamentals/"
      ],
      "metadata": {
        "id": "XDKn3Tv_9DIn"
      }
    },
    {
      "cell_type": "code",
      "execution_count": 1,
      "metadata": {
        "colab": {
          "base_uri": "https://localhost:8080/"
        },
        "id": "Guiuc24L5XJu",
        "outputId": "cad95a14-81d1-4c82-eae6-7ac498de3b2e"
      },
      "outputs": [
        {
          "output_type": "stream",
          "name": "stdout",
          "text": [
            "2.5.1+cu121\n"
          ]
        }
      ],
      "source": [
        "import torch\n",
        "import pandas as pd\n",
        "import numpy as np\n",
        "import matplotlib.pyplot as plt\n",
        "print(torch.__version__)"
      ]
    },
    {
      "cell_type": "markdown",
      "source": [
        "\n",
        "##Introduction to Tensors\n",
        "\n",
        "###Creating tensors\n",
        "PyTorch tensors are created using the command 'torch.Tensor()'"
      ],
      "metadata": {
        "id": "dtMUtkVx5rtK"
      }
    },
    {
      "cell_type": "code",
      "source": [
        "#scalar\n",
        "scalar = torch.tensor(7)\n",
        "scalar"
      ],
      "metadata": {
        "colab": {
          "base_uri": "https://localhost:8080/"
        },
        "id": "0ojsjoHQ-uHq",
        "outputId": "1c2975a4-00da-4a25-ca73-52674eb02ddf"
      },
      "execution_count": 2,
      "outputs": [
        {
          "output_type": "execute_result",
          "data": {
            "text/plain": [
              "tensor(7)"
            ]
          },
          "metadata": {},
          "execution_count": 2
        }
      ]
    },
    {
      "cell_type": "code",
      "source": [
        "#Get number of dimention\n",
        "scalar.ndim"
      ],
      "metadata": {
        "colab": {
          "base_uri": "https://localhost:8080/"
        },
        "id": "eEDxaxKm-3p-",
        "outputId": "d4394757-b763-4592-8683-c08d1eb4ad10"
      },
      "execution_count": 3,
      "outputs": [
        {
          "output_type": "execute_result",
          "data": {
            "text/plain": [
              "0"
            ]
          },
          "metadata": {},
          "execution_count": 3
        }
      ]
    },
    {
      "cell_type": "code",
      "source": [
        "# Get tensior back as Python int\n",
        "scalar.item()"
      ],
      "metadata": {
        "colab": {
          "base_uri": "https://localhost:8080/"
        },
        "id": "ysHhiQx9_-iA",
        "outputId": "db46b642-8174-4cad-9b1d-a1a7ab5f8497"
      },
      "execution_count": 4,
      "outputs": [
        {
          "output_type": "execute_result",
          "data": {
            "text/plain": [
              "7"
            ]
          },
          "metadata": {},
          "execution_count": 4
        }
      ]
    },
    {
      "cell_type": "code",
      "source": [
        "vector = torch.tensor([7,7])\n",
        "vector"
      ],
      "metadata": {
        "colab": {
          "base_uri": "https://localhost:8080/"
        },
        "id": "XXQzAJJYAREv",
        "outputId": "b16b66aa-8d84-4dc5-fee1-803b8e4c708d"
      },
      "execution_count": 5,
      "outputs": [
        {
          "output_type": "execute_result",
          "data": {
            "text/plain": [
              "tensor([7, 7])"
            ]
          },
          "metadata": {},
          "execution_count": 5
        }
      ]
    },
    {
      "cell_type": "code",
      "source": [
        "vector.ndim"
      ],
      "metadata": {
        "colab": {
          "base_uri": "https://localhost:8080/"
        },
        "id": "LXE34h5LAmwJ",
        "outputId": "83e5e1bc-77f9-4086-bb7c-6486a0bc1ce8"
      },
      "execution_count": 6,
      "outputs": [
        {
          "output_type": "execute_result",
          "data": {
            "text/plain": [
              "1"
            ]
          },
          "metadata": {},
          "execution_count": 6
        }
      ]
    },
    {
      "cell_type": "code",
      "source": [
        "vector.shape"
      ],
      "metadata": {
        "colab": {
          "base_uri": "https://localhost:8080/"
        },
        "id": "cVrTTKGfAzfQ",
        "outputId": "99e3b38d-d9b7-48db-c29c-4d07d7223d98"
      },
      "execution_count": 7,
      "outputs": [
        {
          "output_type": "execute_result",
          "data": {
            "text/plain": [
              "torch.Size([2])"
            ]
          },
          "metadata": {},
          "execution_count": 7
        }
      ]
    },
    {
      "cell_type": "code",
      "source": [
        "#MATRIX\n",
        "\n",
        "MATRIX = torch.tensor([[7,8],\n",
        "                       [9,10]])\n",
        "MATRIX"
      ],
      "metadata": {
        "colab": {
          "base_uri": "https://localhost:8080/"
        },
        "id": "IXRFXUpZA1fh",
        "outputId": "e436f9d4-5316-4aab-86fb-fed4193f8462"
      },
      "execution_count": 8,
      "outputs": [
        {
          "output_type": "execute_result",
          "data": {
            "text/plain": [
              "tensor([[ 7,  8],\n",
              "        [ 9, 10]])"
            ]
          },
          "metadata": {},
          "execution_count": 8
        }
      ]
    },
    {
      "cell_type": "code",
      "source": [
        "MATRIX.ndim"
      ],
      "metadata": {
        "colab": {
          "base_uri": "https://localhost:8080/"
        },
        "id": "tmOg0-cGBGKA",
        "outputId": "31cf60cf-04a3-4768-b590-82ebafd008e9"
      },
      "execution_count": 9,
      "outputs": [
        {
          "output_type": "execute_result",
          "data": {
            "text/plain": [
              "2"
            ]
          },
          "metadata": {},
          "execution_count": 9
        }
      ]
    },
    {
      "cell_type": "code",
      "source": [
        "MATRIX[0]"
      ],
      "metadata": {
        "colab": {
          "base_uri": "https://localhost:8080/"
        },
        "id": "deyFQC0eFT6B",
        "outputId": "9bb86345-c513-4963-c5f2-87e931a03f10"
      },
      "execution_count": 10,
      "outputs": [
        {
          "output_type": "execute_result",
          "data": {
            "text/plain": [
              "tensor([7, 8])"
            ]
          },
          "metadata": {},
          "execution_count": 10
        }
      ]
    },
    {
      "cell_type": "code",
      "source": [
        "MATRIX.shape"
      ],
      "metadata": {
        "colab": {
          "base_uri": "https://localhost:8080/"
        },
        "id": "KRbIhHEBFZDK",
        "outputId": "0372c211-9969-47a3-e063-68ed061a1c53"
      },
      "execution_count": 11,
      "outputs": [
        {
          "output_type": "execute_result",
          "data": {
            "text/plain": [
              "torch.Size([2, 2])"
            ]
          },
          "metadata": {},
          "execution_count": 11
        }
      ]
    },
    {
      "cell_type": "code",
      "source": [
        "#TENSOR\n",
        "TENSOR = torch.tensor([[[1, 2, 3],\n",
        "                        [4, 5, 6],\n",
        "                        [7, 8, 9]],\n",
        "\n",
        "                        [[10,11,12],\n",
        "                         [13,14,15],\n",
        "                         [16,17,18]]])\n",
        "TENSOR"
      ],
      "metadata": {
        "colab": {
          "base_uri": "https://localhost:8080/"
        },
        "id": "iQ7RnnBEFgRt",
        "outputId": "e6d7e60b-9eb4-41a7-b148-4a0f911728ed"
      },
      "execution_count": 12,
      "outputs": [
        {
          "output_type": "execute_result",
          "data": {
            "text/plain": [
              "tensor([[[ 1,  2,  3],\n",
              "         [ 4,  5,  6],\n",
              "         [ 7,  8,  9]],\n",
              "\n",
              "        [[10, 11, 12],\n",
              "         [13, 14, 15],\n",
              "         [16, 17, 18]]])"
            ]
          },
          "metadata": {},
          "execution_count": 12
        }
      ]
    },
    {
      "cell_type": "code",
      "source": [
        "TENSOR[1][1][1]"
      ],
      "metadata": {
        "colab": {
          "base_uri": "https://localhost:8080/"
        },
        "id": "hlF0SLhuGQY8",
        "outputId": "2fcfbd68-2895-4275-8d3d-be3d6d0fb8ae"
      },
      "execution_count": 13,
      "outputs": [
        {
          "output_type": "execute_result",
          "data": {
            "text/plain": [
              "tensor(14)"
            ]
          },
          "metadata": {},
          "execution_count": 13
        }
      ]
    },
    {
      "cell_type": "code",
      "source": [
        "TENSOR.ndim"
      ],
      "metadata": {
        "colab": {
          "base_uri": "https://localhost:8080/"
        },
        "id": "LAvwYUUyGSiE",
        "outputId": "c3b6d79f-c7db-4327-bca2-663d2f01505a"
      },
      "execution_count": 14,
      "outputs": [
        {
          "output_type": "execute_result",
          "data": {
            "text/plain": [
              "3"
            ]
          },
          "metadata": {},
          "execution_count": 14
        }
      ]
    },
    {
      "cell_type": "code",
      "source": [
        "TENSOR.shape"
      ],
      "metadata": {
        "colab": {
          "base_uri": "https://localhost:8080/"
        },
        "id": "behXO306G9-x",
        "outputId": "63761aa6-4d81-4c15-a88d-1ea23f9b36ab"
      },
      "execution_count": 15,
      "outputs": [
        {
          "output_type": "execute_result",
          "data": {
            "text/plain": [
              "torch.Size([2, 3, 3])"
            ]
          },
          "metadata": {},
          "execution_count": 15
        }
      ]
    },
    {
      "cell_type": "markdown",
      "source": [
        "### RANDOM TENSORS CONCEPT\n",
        "\n",
        "Why random tensors?\n",
        "- it is important because many neural network usually start with random set of numbers and then process it to better represent the data.\n",
        "\n",
        "\n",
        "Process:\n",
        "\n",
        "1. Start with random numbers\n",
        "2. Look at data\n",
        "3. Update random number\n",
        "4. Look at data\n",
        "5. Update random numbers"
      ],
      "metadata": {
        "id": "NUHmnovyHD4U"
      }
    },
    {
      "cell_type": "code",
      "source": [
        "# Create a random tensor of shape (3,4)\n",
        "\n",
        "random_tensor = torch.rand(3, 10,4)\n",
        "random_tensor"
      ],
      "metadata": {
        "colab": {
          "base_uri": "https://localhost:8080/"
        },
        "id": "edHdW5E1KqZZ",
        "outputId": "11a5a123-a3da-4463-bc5d-c04988b8907d"
      },
      "execution_count": 16,
      "outputs": [
        {
          "output_type": "execute_result",
          "data": {
            "text/plain": [
              "tensor([[[0.3200, 0.5363, 0.4351, 0.5265],\n",
              "         [0.7656, 0.7165, 0.6594, 0.3979],\n",
              "         [0.7468, 0.8255, 0.2380, 0.1134],\n",
              "         [0.3429, 0.0967, 0.0020, 0.0415],\n",
              "         [0.9231, 0.9165, 0.0805, 0.7871],\n",
              "         [0.3994, 0.0917, 0.9037, 0.9845],\n",
              "         [0.1155, 0.1654, 0.1630, 0.1593],\n",
              "         [0.3832, 0.7361, 0.2847, 0.1639],\n",
              "         [0.9118, 0.9210, 0.8142, 0.8390],\n",
              "         [0.8273, 0.1989, 0.5939, 0.7063]],\n",
              "\n",
              "        [[0.8416, 0.2867, 0.6555, 0.6763],\n",
              "         [0.6626, 0.4314, 0.7222, 0.2476],\n",
              "         [0.2900, 0.3418, 0.7860, 0.5143],\n",
              "         [0.0418, 0.2247, 0.4593, 0.4574],\n",
              "         [0.9700, 0.7421, 0.4029, 0.6788],\n",
              "         [0.5630, 0.5144, 0.8811, 0.7774],\n",
              "         [0.7582, 0.4421, 0.4650, 0.9593],\n",
              "         [0.6778, 0.3745, 0.7810, 0.1706],\n",
              "         [0.8016, 0.8793, 0.4648, 0.3846],\n",
              "         [0.0710, 0.9947, 0.0713, 0.5422]],\n",
              "\n",
              "        [[0.8512, 0.4390, 0.9742, 0.7327],\n",
              "         [0.3822, 0.2019, 0.3895, 0.9737],\n",
              "         [0.7391, 0.7276, 0.8626, 0.6780],\n",
              "         [0.6038, 0.1133, 0.2508, 0.1823],\n",
              "         [0.0686, 0.6534, 0.4531, 0.6640],\n",
              "         [0.2715, 0.8683, 0.4405, 0.9989],\n",
              "         [0.9178, 0.9478, 0.1090, 0.3422],\n",
              "         [0.3358, 0.0445, 0.1375, 0.8341],\n",
              "         [0.5919, 0.5260, 0.5311, 0.2819],\n",
              "         [0.5014, 0.0724, 0.1672, 0.7134]]])"
            ]
          },
          "metadata": {},
          "execution_count": 16
        }
      ]
    },
    {
      "cell_type": "code",
      "source": [
        "# Create a random tensor with shape similar to image tensor\n",
        "random_image_size_tensor = torch.rand(3, 244, 244)\n",
        "random_image_size_tensor.shape , random_image_size_tensor.ndim"
      ],
      "metadata": {
        "colab": {
          "base_uri": "https://localhost:8080/"
        },
        "id": "_VyhahtMLy6N",
        "outputId": "bbef694a-5cc9-40b4-fa31-5eb0197ef4c3"
      },
      "execution_count": 17,
      "outputs": [
        {
          "output_type": "execute_result",
          "data": {
            "text/plain": [
              "(torch.Size([3, 244, 244]), 3)"
            ]
          },
          "metadata": {},
          "execution_count": 17
        }
      ]
    },
    {
      "cell_type": "code",
      "source": [
        "random_image_size_tensor"
      ],
      "metadata": {
        "colab": {
          "base_uri": "https://localhost:8080/"
        },
        "id": "MzRFrYQzMvv4",
        "outputId": "e8e6c7d2-d659-49fd-a7ea-be0d2f2246a2"
      },
      "execution_count": 18,
      "outputs": [
        {
          "output_type": "execute_result",
          "data": {
            "text/plain": [
              "tensor([[[0.2477, 0.0753, 0.9713,  ..., 0.6531, 0.5804, 0.9993],\n",
              "         [0.2360, 0.7776, 0.8128,  ..., 0.6596, 0.0964, 0.5080],\n",
              "         [0.0288, 0.9432, 0.2283,  ..., 0.0640, 0.8834, 0.0504],\n",
              "         ...,\n",
              "         [0.6065, 0.6548, 0.1870,  ..., 0.5932, 0.1888, 0.4248],\n",
              "         [0.7690, 0.8410, 0.6288,  ..., 0.0804, 0.8353, 0.4980],\n",
              "         [0.9743, 0.7881, 0.5443,  ..., 0.4061, 0.2007, 0.0173]],\n",
              "\n",
              "        [[0.6229, 0.7746, 0.2696,  ..., 0.2869, 0.0169, 0.7340],\n",
              "         [0.6528, 0.8810, 0.5952,  ..., 0.7458, 0.9978, 0.1969],\n",
              "         [0.3120, 0.7248, 0.7979,  ..., 0.1537, 0.3550, 0.8800],\n",
              "         ...,\n",
              "         [0.6200, 0.4772, 0.2880,  ..., 0.6383, 0.7278, 0.5198],\n",
              "         [0.6727, 0.9151, 0.2638,  ..., 0.2634, 0.1303, 0.4654],\n",
              "         [0.9852, 0.7321, 0.4971,  ..., 0.4279, 0.7327, 0.9117]],\n",
              "\n",
              "        [[0.7471, 0.7095, 0.9106,  ..., 0.4992, 0.9081, 0.3655],\n",
              "         [0.4567, 0.4128, 0.6309,  ..., 0.3570, 0.8785, 0.5836],\n",
              "         [0.4380, 0.6869, 0.6185,  ..., 0.0319, 0.7776, 0.9572],\n",
              "         ...,\n",
              "         [0.0740, 0.6890, 0.3975,  ..., 0.5497, 0.2014, 0.6434],\n",
              "         [0.5930, 0.7313, 0.1705,  ..., 0.1774, 0.9115, 0.9377],\n",
              "         [0.5633, 0.3471, 0.1806,  ..., 0.2076, 0.7085, 0.7772]]])"
            ]
          },
          "metadata": {},
          "execution_count": 18
        }
      ]
    },
    {
      "cell_type": "code",
      "source": [
        "#creating tensors composing of 0\n",
        "zeros = torch.zeros(3,2)\n",
        "zeros"
      ],
      "metadata": {
        "colab": {
          "base_uri": "https://localhost:8080/"
        },
        "id": "_l_cSkU2NXoj",
        "outputId": "fb42b7ed-8664-4552-d3de-45aa9290edf4"
      },
      "execution_count": 23,
      "outputs": [
        {
          "output_type": "execute_result",
          "data": {
            "text/plain": [
              "tensor([[0., 0.],\n",
              "        [0., 0.],\n",
              "        [0., 0.]])"
            ]
          },
          "metadata": {},
          "execution_count": 23
        }
      ]
    },
    {
      "cell_type": "code",
      "source": [
        "#creating tensors composing of 1\n",
        "ones = torch.ones(3,3)\n",
        "ones"
      ],
      "metadata": {
        "id": "iqf81MnODs-l",
        "outputId": "eb0c38eb-4e5d-4752-9f0c-55310f4f8164",
        "colab": {
          "base_uri": "https://localhost:8080/"
        }
      },
      "execution_count": 25,
      "outputs": [
        {
          "output_type": "execute_result",
          "data": {
            "text/plain": [
              "tensor([[1., 1., 1.],\n",
              "        [1., 1., 1.],\n",
              "        [1., 1., 1.]])"
            ]
          },
          "metadata": {},
          "execution_count": 25
        }
      ]
    },
    {
      "cell_type": "code",
      "source": [
        "ones.dtype"
      ],
      "metadata": {
        "id": "EViocoKWDyWH",
        "outputId": "3c52bb49-8d93-4a9a-894a-8e255d11f27a",
        "colab": {
          "base_uri": "https://localhost:8080/"
        }
      },
      "execution_count": 26,
      "outputs": [
        {
          "output_type": "execute_result",
          "data": {
            "text/plain": [
              "torch.float32"
            ]
          },
          "metadata": {},
          "execution_count": 26
        }
      ]
    },
    {
      "cell_type": "code",
      "source": [
        "zeros.dtype"
      ],
      "metadata": {
        "id": "uiKHftxWEXd6",
        "outputId": "bd4c5864-92e7-44b3-a221-c6dba2340ec7",
        "colab": {
          "base_uri": "https://localhost:8080/"
        }
      },
      "execution_count": 27,
      "outputs": [
        {
          "output_type": "execute_result",
          "data": {
            "text/plain": [
              "torch.float32"
            ]
          },
          "metadata": {},
          "execution_count": 27
        }
      ]
    },
    {
      "cell_type": "markdown",
      "source": [
        "###CREATING A RANGE OF TENSORS AND TENSORS-LIKE"
      ],
      "metadata": {
        "id": "kN4iHQpAEZQR"
      }
    },
    {
      "cell_type": "code",
      "source": [
        "# USE TORCH.RANGE(start, end, step)\n",
        "one_to_ten = torch.arange(1,11)\n",
        "one_to_ten"
      ],
      "metadata": {
        "id": "I7fOyjmsEpdP",
        "outputId": "0457c613-87a9-47d5-d9f3-651be6edde6b",
        "colab": {
          "base_uri": "https://localhost:8080/"
        }
      },
      "execution_count": 35,
      "outputs": [
        {
          "output_type": "execute_result",
          "data": {
            "text/plain": [
              "tensor([ 1,  2,  3,  4,  5,  6,  7,  8,  9, 10])"
            ]
          },
          "metadata": {},
          "execution_count": 35
        }
      ]
    },
    {
      "cell_type": "code",
      "source": [
        "one_to_ten_step= torch.arange(1,11 , 3)\n",
        "one_to_ten_step"
      ],
      "metadata": {
        "id": "E-0PWDufEpVp",
        "outputId": "fffef34d-f652-4db8-ade5-f9104701f88e",
        "colab": {
          "base_uri": "https://localhost:8080/"
        }
      },
      "execution_count": 36,
      "outputs": [
        {
          "output_type": "execute_result",
          "data": {
            "text/plain": [
              "tensor([ 1,  4,  7, 10])"
            ]
          },
          "metadata": {},
          "execution_count": 36
        }
      ]
    },
    {
      "cell_type": "code",
      "source": [
        "#Creating a tensor-like"
      ],
      "metadata": {
        "id": "xaS9DaQGFvoD"
      },
      "execution_count": 37,
      "outputs": []
    },
    {
      "cell_type": "code",
      "source": [
        "ten_zero = torch.zeros_like(one_to_ten)\n",
        "ten_zero"
      ],
      "metadata": {
        "id": "QLclSYCcF-op",
        "outputId": "fed89c18-3585-4bd1-db33-e2c021c7fd4e",
        "colab": {
          "base_uri": "https://localhost:8080/"
        }
      },
      "execution_count": 39,
      "outputs": [
        {
          "output_type": "execute_result",
          "data": {
            "text/plain": [
              "tensor([0, 0, 0, 0, 0, 0, 0, 0, 0, 0])"
            ]
          },
          "metadata": {},
          "execution_count": 39
        }
      ]
    },
    {
      "cell_type": "markdown",
      "source": [
        "###TENSOR DATATYPE\n",
        "\n",
        "**NOTE:** 3 big errors you'll run into with PyTorch & deep learning\n",
        "\n",
        "    1. Tensors not right datatype\n",
        "    2. Tensors not right shape\n",
        "    3. Tensors not on the right device\n"
      ],
      "metadata": {
        "id": "4jiYDa_3GFbl"
      }
    },
    {
      "cell_type": "code",
      "source": [
        "float_32_tensor = torch.tensor([3.0, 6.0, 9.0],\n",
        "                               dtype=None, #what datatype is the tensor?\n",
        "                               device=\"cpu\", # What device is your tensor on?\n",
        "                               requires_grad=False) # track gradients with this tensor operator?\n",
        "float_32_tensor"
      ],
      "metadata": {
        "id": "bD0nXk9wGoRR",
        "outputId": "8ba880cb-4ea9-45fd-cf34-44b3b0466f42",
        "colab": {
          "base_uri": "https://localhost:8080/"
        }
      },
      "execution_count": 47,
      "outputs": [
        {
          "output_type": "execute_result",
          "data": {
            "text/plain": [
              "tensor([3., 6., 9.])"
            ]
          },
          "metadata": {},
          "execution_count": 47
        }
      ]
    },
    {
      "cell_type": "code",
      "source": [
        "float_16_tensor = float_32_tensor.type(torch.float16)\n",
        "float_16_tensor"
      ],
      "metadata": {
        "id": "gsNHfibDGoHQ",
        "outputId": "9dc1429a-a430-473f-ddf0-cee5455fb935",
        "colab": {
          "base_uri": "https://localhost:8080/"
        }
      },
      "execution_count": 50,
      "outputs": [
        {
          "output_type": "execute_result",
          "data": {
            "text/plain": [
              "tensor([3., 6., 9.], dtype=torch.float16)"
            ]
          },
          "metadata": {},
          "execution_count": 50
        }
      ]
    },
    {
      "cell_type": "code",
      "source": [
        "product = float_32_tensor * float_16_tensor\n",
        "product"
      ],
      "metadata": {
        "id": "CMgItmlAGmRI",
        "outputId": "a4bca0e1-5f66-4bd9-f9e1-00fe551c2504",
        "colab": {
          "base_uri": "https://localhost:8080/"
        }
      },
      "execution_count": 52,
      "outputs": [
        {
          "output_type": "execute_result",
          "data": {
            "text/plain": [
              "tensor([ 9., 36., 81.])"
            ]
          },
          "metadata": {},
          "execution_count": 52
        }
      ]
    },
    {
      "cell_type": "code",
      "source": [],
      "metadata": {
        "id": "tItZ3SY1Gkzc"
      },
      "execution_count": null,
      "outputs": []
    }
  ]
}