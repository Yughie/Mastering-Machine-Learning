{
  "nbformat": 4,
  "nbformat_minor": 0,
  "metadata": {
    "colab": {
      "provenance": [],
      "gpuType": "T4",
      "authorship_tag": "ABX9TyP1ysrmHGRytbyeea+jIdsk"
    },
    "kernelspec": {
      "name": "python3",
      "display_name": "Python 3"
    },
    "language_info": {
      "name": "python"
    }
  },
  "cells": [
    {
      "cell_type": "markdown",
      "source": [
        "## 00. PyTorch Fundamentals\n",
        "\n",
        "Resources: https://www.learnpytorch.io/00_pytorch_fundamentals/"
      ],
      "metadata": {
        "id": "XDKn3Tv_9DIn"
      }
    },
    {
      "cell_type": "code",
      "execution_count": 1,
      "metadata": {
        "colab": {
          "base_uri": "https://localhost:8080/"
        },
        "id": "Guiuc24L5XJu",
        "outputId": "13683cc9-a561-4d84-c114-b940ac8adfca"
      },
      "outputs": [
        {
          "output_type": "stream",
          "name": "stdout",
          "text": [
            "2.5.1+cu121\n"
          ]
        }
      ],
      "source": [
        "import torch\n",
        "import pandas as pd\n",
        "import numpy as np\n",
        "import matplotlib.pyplot as plt\n",
        "print(torch.__version__)"
      ]
    },
    {
      "cell_type": "markdown",
      "source": [
        "\n",
        "##Introduction to Tensors\n",
        "\n",
        "###Creating tensors\n",
        "PyTorch tensors are created using the command 'torch.Tensor()'"
      ],
      "metadata": {
        "id": "dtMUtkVx5rtK"
      }
    },
    {
      "cell_type": "code",
      "source": [
        "#scalar\n",
        "scalar = torch.tensor(7)\n",
        "scalar"
      ],
      "metadata": {
        "colab": {
          "base_uri": "https://localhost:8080/"
        },
        "id": "0ojsjoHQ-uHq",
        "outputId": "16d6d987-9826-4a82-9829-33ed65181622"
      },
      "execution_count": 2,
      "outputs": [
        {
          "output_type": "execute_result",
          "data": {
            "text/plain": [
              "tensor(7)"
            ]
          },
          "metadata": {},
          "execution_count": 2
        }
      ]
    },
    {
      "cell_type": "code",
      "source": [
        "#Get number of dimention\n",
        "scalar.ndim"
      ],
      "metadata": {
        "colab": {
          "base_uri": "https://localhost:8080/"
        },
        "id": "eEDxaxKm-3p-",
        "outputId": "1731e97c-8e27-4e55-e517-e625c7d574a6"
      },
      "execution_count": 3,
      "outputs": [
        {
          "output_type": "execute_result",
          "data": {
            "text/plain": [
              "0"
            ]
          },
          "metadata": {},
          "execution_count": 3
        }
      ]
    },
    {
      "cell_type": "code",
      "source": [
        "# Get tensior back as Python int\n",
        "scalar.item()"
      ],
      "metadata": {
        "colab": {
          "base_uri": "https://localhost:8080/"
        },
        "id": "ysHhiQx9_-iA",
        "outputId": "e97ab444-23e5-406d-b8e5-198e92d7dcb6"
      },
      "execution_count": 4,
      "outputs": [
        {
          "output_type": "execute_result",
          "data": {
            "text/plain": [
              "7"
            ]
          },
          "metadata": {},
          "execution_count": 4
        }
      ]
    },
    {
      "cell_type": "code",
      "source": [
        "vector = torch.tensor([7,7])\n",
        "vector"
      ],
      "metadata": {
        "colab": {
          "base_uri": "https://localhost:8080/"
        },
        "id": "XXQzAJJYAREv",
        "outputId": "f16d7447-b72d-47d5-94de-6af233a2467b"
      },
      "execution_count": 5,
      "outputs": [
        {
          "output_type": "execute_result",
          "data": {
            "text/plain": [
              "tensor([7, 7])"
            ]
          },
          "metadata": {},
          "execution_count": 5
        }
      ]
    },
    {
      "cell_type": "code",
      "source": [
        "vector.ndim"
      ],
      "metadata": {
        "colab": {
          "base_uri": "https://localhost:8080/"
        },
        "id": "LXE34h5LAmwJ",
        "outputId": "88ff8d35-8a87-46c1-81b4-819705d492b9"
      },
      "execution_count": 6,
      "outputs": [
        {
          "output_type": "execute_result",
          "data": {
            "text/plain": [
              "1"
            ]
          },
          "metadata": {},
          "execution_count": 6
        }
      ]
    },
    {
      "cell_type": "code",
      "source": [
        "vector.shape"
      ],
      "metadata": {
        "colab": {
          "base_uri": "https://localhost:8080/"
        },
        "id": "cVrTTKGfAzfQ",
        "outputId": "4a55c4af-d509-4115-b281-4f605a83532d"
      },
      "execution_count": 7,
      "outputs": [
        {
          "output_type": "execute_result",
          "data": {
            "text/plain": [
              "torch.Size([2])"
            ]
          },
          "metadata": {},
          "execution_count": 7
        }
      ]
    },
    {
      "cell_type": "code",
      "source": [
        "#MATRIX\n",
        "\n",
        "MATRIX = torch.tensor([[7,8],\n",
        "                       [9,10]])\n",
        "MATRIX"
      ],
      "metadata": {
        "colab": {
          "base_uri": "https://localhost:8080/"
        },
        "id": "IXRFXUpZA1fh",
        "outputId": "40188c92-e37c-4750-f8f8-3c45111f3754"
      },
      "execution_count": 8,
      "outputs": [
        {
          "output_type": "execute_result",
          "data": {
            "text/plain": [
              "tensor([[ 7,  8],\n",
              "        [ 9, 10]])"
            ]
          },
          "metadata": {},
          "execution_count": 8
        }
      ]
    },
    {
      "cell_type": "code",
      "source": [
        "MATRIX.ndim"
      ],
      "metadata": {
        "colab": {
          "base_uri": "https://localhost:8080/"
        },
        "id": "tmOg0-cGBGKA",
        "outputId": "ffffe59c-a14f-4ef3-b330-39846a6efaf6"
      },
      "execution_count": 9,
      "outputs": [
        {
          "output_type": "execute_result",
          "data": {
            "text/plain": [
              "2"
            ]
          },
          "metadata": {},
          "execution_count": 9
        }
      ]
    },
    {
      "cell_type": "code",
      "source": [
        "MATRIX[0]"
      ],
      "metadata": {
        "colab": {
          "base_uri": "https://localhost:8080/"
        },
        "id": "deyFQC0eFT6B",
        "outputId": "8ec58a77-b625-49a1-806f-1fe55ce5bb70"
      },
      "execution_count": 10,
      "outputs": [
        {
          "output_type": "execute_result",
          "data": {
            "text/plain": [
              "tensor([7, 8])"
            ]
          },
          "metadata": {},
          "execution_count": 10
        }
      ]
    },
    {
      "cell_type": "code",
      "source": [
        "MATRIX.shape"
      ],
      "metadata": {
        "colab": {
          "base_uri": "https://localhost:8080/"
        },
        "id": "KRbIhHEBFZDK",
        "outputId": "72838ea1-8d15-4767-b390-442bcbc1b0b6"
      },
      "execution_count": 11,
      "outputs": [
        {
          "output_type": "execute_result",
          "data": {
            "text/plain": [
              "torch.Size([2, 2])"
            ]
          },
          "metadata": {},
          "execution_count": 11
        }
      ]
    },
    {
      "cell_type": "code",
      "source": [
        "#TENSOR\n",
        "TENSOR = torch.tensor([[[1, 2, 3],\n",
        "                        [4, 5, 6],\n",
        "                        [7, 8, 9]],\n",
        "\n",
        "                        [[10,11,12],\n",
        "                         [13,14,15],\n",
        "                         [16,17,18]]])\n",
        "TENSOR"
      ],
      "metadata": {
        "colab": {
          "base_uri": "https://localhost:8080/"
        },
        "id": "iQ7RnnBEFgRt",
        "outputId": "b0d9f70f-f8e1-4595-d3e3-c56715aa7895"
      },
      "execution_count": 12,
      "outputs": [
        {
          "output_type": "execute_result",
          "data": {
            "text/plain": [
              "tensor([[[ 1,  2,  3],\n",
              "         [ 4,  5,  6],\n",
              "         [ 7,  8,  9]],\n",
              "\n",
              "        [[10, 11, 12],\n",
              "         [13, 14, 15],\n",
              "         [16, 17, 18]]])"
            ]
          },
          "metadata": {},
          "execution_count": 12
        }
      ]
    },
    {
      "cell_type": "code",
      "source": [
        "TENSOR[1][1][1]"
      ],
      "metadata": {
        "colab": {
          "base_uri": "https://localhost:8080/"
        },
        "id": "hlF0SLhuGQY8",
        "outputId": "00558b68-c969-49b9-9567-93486e26890a"
      },
      "execution_count": 13,
      "outputs": [
        {
          "output_type": "execute_result",
          "data": {
            "text/plain": [
              "tensor(14)"
            ]
          },
          "metadata": {},
          "execution_count": 13
        }
      ]
    },
    {
      "cell_type": "code",
      "source": [
        "TENSOR.ndim"
      ],
      "metadata": {
        "colab": {
          "base_uri": "https://localhost:8080/"
        },
        "id": "LAvwYUUyGSiE",
        "outputId": "6d5b71af-d365-40c2-f0b6-2bb755f7346d"
      },
      "execution_count": 14,
      "outputs": [
        {
          "output_type": "execute_result",
          "data": {
            "text/plain": [
              "3"
            ]
          },
          "metadata": {},
          "execution_count": 14
        }
      ]
    },
    {
      "cell_type": "code",
      "source": [
        "TENSOR.shape"
      ],
      "metadata": {
        "colab": {
          "base_uri": "https://localhost:8080/"
        },
        "id": "behXO306G9-x",
        "outputId": "e106ca8e-3b61-463f-a0ae-75095f0e5294"
      },
      "execution_count": 15,
      "outputs": [
        {
          "output_type": "execute_result",
          "data": {
            "text/plain": [
              "torch.Size([2, 3, 3])"
            ]
          },
          "metadata": {},
          "execution_count": 15
        }
      ]
    },
    {
      "cell_type": "markdown",
      "source": [
        "### RANDOM TENSORS CONCEPT\n",
        "\n",
        "Why random tensors?\n",
        "- it is important because many neural network usually start with random set of numbers and then process it to better represent the data.\n",
        "\n",
        "\n",
        "Process:\n",
        "\n",
        "1. Start with random numbers\n",
        "2. Look at data\n",
        "3. Update random number\n",
        "4. Look at data\n",
        "5. Update random numbers"
      ],
      "metadata": {
        "id": "NUHmnovyHD4U"
      }
    },
    {
      "cell_type": "code",
      "source": [
        "# Create a random tensor of shape (3,4)\n",
        "\n",
        "random_tensor = torch.rand(3, 10,4)\n",
        "random_tensor"
      ],
      "metadata": {
        "colab": {
          "base_uri": "https://localhost:8080/"
        },
        "id": "edHdW5E1KqZZ",
        "outputId": "bbbe5888-2bc3-4b32-ced1-0e293be26454"
      },
      "execution_count": 16,
      "outputs": [
        {
          "output_type": "execute_result",
          "data": {
            "text/plain": [
              "tensor([[[0.2592, 0.2718, 0.4347, 0.2984],\n",
              "         [0.5730, 0.9967, 0.5912, 0.9328],\n",
              "         [0.2088, 0.9947, 0.6691, 0.2876],\n",
              "         [0.4878, 0.8825, 0.1856, 0.0963],\n",
              "         [0.3219, 0.2816, 0.4828, 0.2733],\n",
              "         [0.2811, 0.1575, 0.6222, 0.3401],\n",
              "         [0.5285, 0.6769, 0.7914, 0.4572],\n",
              "         [0.0781, 0.3154, 0.5878, 0.7750],\n",
              "         [0.5121, 0.7516, 0.0292, 0.4096],\n",
              "         [0.4019, 0.6333, 0.7835, 0.9329]],\n",
              "\n",
              "        [[0.7582, 0.1538, 0.7905, 0.8319],\n",
              "         [0.0794, 0.6678, 0.5363, 0.3996],\n",
              "         [0.7996, 0.8423, 0.1300, 0.0995],\n",
              "         [0.8487, 0.1132, 0.6199, 0.4868],\n",
              "         [0.0166, 0.2075, 0.0800, 0.1223],\n",
              "         [0.8412, 0.6433, 0.5428, 0.2117],\n",
              "         [0.3745, 0.9189, 0.3221, 0.6152],\n",
              "         [0.8088, 0.7244, 0.6451, 0.4717],\n",
              "         [0.7654, 0.9241, 0.0719, 0.9521],\n",
              "         [0.3822, 0.0045, 0.9956, 0.8894]],\n",
              "\n",
              "        [[0.9687, 0.4802, 0.8327, 0.6316],\n",
              "         [0.6634, 0.9996, 0.7489, 0.8050],\n",
              "         [0.4143, 0.3422, 0.0327, 0.7750],\n",
              "         [0.8789, 0.7752, 0.6107, 0.7995],\n",
              "         [0.7954, 0.0170, 0.7449, 0.5699],\n",
              "         [0.3892, 0.6975, 0.1709, 0.2800],\n",
              "         [0.6828, 0.3826, 0.6350, 0.3939],\n",
              "         [0.3362, 0.2996, 0.1011, 0.4190],\n",
              "         [0.7599, 0.4278, 0.2524, 0.5695],\n",
              "         [0.0608, 0.5228, 0.0734, 0.6636]]])"
            ]
          },
          "metadata": {},
          "execution_count": 16
        }
      ]
    },
    {
      "cell_type": "code",
      "source": [
        "# Create a random tensor with shape similar to image tensor\n",
        "random_image_size_tensor = torch.rand(3, 244, 244)\n",
        "random_image_size_tensor.shape , random_image_size_tensor.ndim"
      ],
      "metadata": {
        "colab": {
          "base_uri": "https://localhost:8080/"
        },
        "id": "_VyhahtMLy6N",
        "outputId": "3ddc8ac0-3a23-4570-d156-c56069568eaf"
      },
      "execution_count": 17,
      "outputs": [
        {
          "output_type": "execute_result",
          "data": {
            "text/plain": [
              "(torch.Size([3, 244, 244]), 3)"
            ]
          },
          "metadata": {},
          "execution_count": 17
        }
      ]
    },
    {
      "cell_type": "code",
      "source": [
        "random_image_size_tensor"
      ],
      "metadata": {
        "colab": {
          "base_uri": "https://localhost:8080/"
        },
        "id": "MzRFrYQzMvv4",
        "outputId": "4fb04da4-f926-4f3f-c657-6b9763f764a1"
      },
      "execution_count": 18,
      "outputs": [
        {
          "output_type": "execute_result",
          "data": {
            "text/plain": [
              "tensor([[[0.4846, 0.3731, 0.9058,  ..., 0.0274, 0.1158, 0.0818],\n",
              "         [0.2331, 0.2077, 0.9426,  ..., 0.0100, 0.6298, 0.3648],\n",
              "         [0.2901, 0.8343, 0.5561,  ..., 0.1794, 0.5829, 0.3904],\n",
              "         ...,\n",
              "         [0.8801, 0.5355, 0.8459,  ..., 0.5784, 0.8218, 0.8266],\n",
              "         [0.4242, 0.6337, 0.0594,  ..., 0.8436, 0.9426, 0.7071],\n",
              "         [0.2396, 0.9157, 0.5877,  ..., 0.3737, 0.5542, 0.5079]],\n",
              "\n",
              "        [[0.8599, 0.7958, 0.8758,  ..., 0.0798, 0.3362, 0.0800],\n",
              "         [0.9577, 0.8533, 0.6403,  ..., 0.8426, 0.0507, 0.0284],\n",
              "         [0.3813, 0.4591, 0.3620,  ..., 0.2349, 0.5548, 0.0439],\n",
              "         ...,\n",
              "         [0.7577, 0.6988, 0.8017,  ..., 0.4239, 0.4567, 0.5103],\n",
              "         [0.6481, 0.5592, 0.0602,  ..., 0.2627, 0.6968, 0.9920],\n",
              "         [0.6252, 0.7471, 0.9688,  ..., 0.5883, 0.3359, 0.6470]],\n",
              "\n",
              "        [[0.8205, 0.5553, 0.1616,  ..., 0.4309, 0.9231, 0.1316],\n",
              "         [0.1612, 0.4335, 0.1451,  ..., 0.8948, 0.3384, 0.8515],\n",
              "         [0.6884, 0.9039, 0.3821,  ..., 0.5891, 0.0840, 0.4213],\n",
              "         ...,\n",
              "         [0.1316, 0.5020, 0.3610,  ..., 0.7456, 0.0051, 0.8809],\n",
              "         [0.6614, 0.9854, 0.3395,  ..., 0.7878, 0.8951, 0.6233],\n",
              "         [0.0262, 0.6257, 0.8132,  ..., 0.9292, 0.6757, 0.2739]]])"
            ]
          },
          "metadata": {},
          "execution_count": 18
        }
      ]
    },
    {
      "cell_type": "code",
      "source": [
        "#creating tensors composing of 0\n",
        "zeros = torch.zeros(3,2)\n",
        "zeros"
      ],
      "metadata": {
        "colab": {
          "base_uri": "https://localhost:8080/"
        },
        "id": "_l_cSkU2NXoj",
        "outputId": "c37410ea-5397-4a14-f3b8-1295e3e87fa5"
      },
      "execution_count": 19,
      "outputs": [
        {
          "output_type": "execute_result",
          "data": {
            "text/plain": [
              "tensor([[0., 0.],\n",
              "        [0., 0.],\n",
              "        [0., 0.]])"
            ]
          },
          "metadata": {},
          "execution_count": 19
        }
      ]
    },
    {
      "cell_type": "code",
      "source": [
        "#creating tensors composing of 1\n",
        "ones = torch.ones(3,3)\n",
        "ones"
      ],
      "metadata": {
        "id": "iqf81MnODs-l",
        "outputId": "4b4a7b77-5f96-4704-b22a-7c4c140fdf96",
        "colab": {
          "base_uri": "https://localhost:8080/"
        }
      },
      "execution_count": 20,
      "outputs": [
        {
          "output_type": "execute_result",
          "data": {
            "text/plain": [
              "tensor([[1., 1., 1.],\n",
              "        [1., 1., 1.],\n",
              "        [1., 1., 1.]])"
            ]
          },
          "metadata": {},
          "execution_count": 20
        }
      ]
    },
    {
      "cell_type": "code",
      "source": [
        "ones.dtype"
      ],
      "metadata": {
        "id": "EViocoKWDyWH",
        "outputId": "4c0ccc9b-19bc-49db-d3bf-eb4ce32c03c4",
        "colab": {
          "base_uri": "https://localhost:8080/"
        }
      },
      "execution_count": 21,
      "outputs": [
        {
          "output_type": "execute_result",
          "data": {
            "text/plain": [
              "torch.float32"
            ]
          },
          "metadata": {},
          "execution_count": 21
        }
      ]
    },
    {
      "cell_type": "code",
      "source": [
        "zeros.dtype"
      ],
      "metadata": {
        "id": "uiKHftxWEXd6",
        "outputId": "5ab3fb16-289e-4330-db5f-3c7cd13ab2d6",
        "colab": {
          "base_uri": "https://localhost:8080/"
        }
      },
      "execution_count": 22,
      "outputs": [
        {
          "output_type": "execute_result",
          "data": {
            "text/plain": [
              "torch.float32"
            ]
          },
          "metadata": {},
          "execution_count": 22
        }
      ]
    },
    {
      "cell_type": "markdown",
      "source": [
        "###CREATING A RANGE OF TENSORS AND TENSORS-LIKE"
      ],
      "metadata": {
        "id": "kN4iHQpAEZQR"
      }
    },
    {
      "cell_type": "code",
      "source": [
        "# USE TORCH.RANGE(start, end, step)\n",
        "one_to_ten = torch.arange(1,11)\n",
        "one_to_ten"
      ],
      "metadata": {
        "id": "I7fOyjmsEpdP",
        "outputId": "1673aad4-5499-4fe8-bade-8988faa738ad",
        "colab": {
          "base_uri": "https://localhost:8080/"
        }
      },
      "execution_count": 23,
      "outputs": [
        {
          "output_type": "execute_result",
          "data": {
            "text/plain": [
              "tensor([ 1,  2,  3,  4,  5,  6,  7,  8,  9, 10])"
            ]
          },
          "metadata": {},
          "execution_count": 23
        }
      ]
    },
    {
      "cell_type": "code",
      "source": [
        "one_to_ten_step= torch.arange(1,11 , 3)\n",
        "one_to_ten_step"
      ],
      "metadata": {
        "id": "E-0PWDufEpVp",
        "outputId": "24296d66-fd35-40de-c289-2a83ed38a319",
        "colab": {
          "base_uri": "https://localhost:8080/"
        }
      },
      "execution_count": 24,
      "outputs": [
        {
          "output_type": "execute_result",
          "data": {
            "text/plain": [
              "tensor([ 1,  4,  7, 10])"
            ]
          },
          "metadata": {},
          "execution_count": 24
        }
      ]
    },
    {
      "cell_type": "code",
      "source": [
        "#Creating a tensor-like"
      ],
      "metadata": {
        "id": "xaS9DaQGFvoD"
      },
      "execution_count": 25,
      "outputs": []
    },
    {
      "cell_type": "code",
      "source": [
        "ten_zero = torch.zeros_like(one_to_ten)\n",
        "ten_zero"
      ],
      "metadata": {
        "id": "QLclSYCcF-op",
        "outputId": "5c15b13c-d63c-44db-dc59-8ca628f7bcfd",
        "colab": {
          "base_uri": "https://localhost:8080/"
        }
      },
      "execution_count": 26,
      "outputs": [
        {
          "output_type": "execute_result",
          "data": {
            "text/plain": [
              "tensor([0, 0, 0, 0, 0, 0, 0, 0, 0, 0])"
            ]
          },
          "metadata": {},
          "execution_count": 26
        }
      ]
    },
    {
      "cell_type": "markdown",
      "source": [
        "###TENSOR DATATYPE\n",
        "\n",
        "**NOTE:** 3 big errors you'll run into with PyTorch & deep learning\n",
        "\n",
        "    1. Tensors not right datatype\n",
        "    2. Tensors not right shape\n",
        "    3. Tensors not on the right device\n"
      ],
      "metadata": {
        "id": "4jiYDa_3GFbl"
      }
    },
    {
      "cell_type": "code",
      "source": [
        "float_32_tensor = torch.tensor([3.0, 6.0, 9.0],\n",
        "                               dtype=None, #what datatype is the tensor?\n",
        "                               device=\"cpu\", # What device is your tensor on?\n",
        "                               requires_grad=False) # track gradients with this tensor operator?\n",
        "float_32_tensor"
      ],
      "metadata": {
        "id": "bD0nXk9wGoRR",
        "outputId": "fa1a450a-393f-4889-fd60-21103a8203bf",
        "colab": {
          "base_uri": "https://localhost:8080/"
        }
      },
      "execution_count": 27,
      "outputs": [
        {
          "output_type": "execute_result",
          "data": {
            "text/plain": [
              "tensor([3., 6., 9.])"
            ]
          },
          "metadata": {},
          "execution_count": 27
        }
      ]
    },
    {
      "cell_type": "code",
      "source": [
        "float_16_tensor = float_32_tensor.type(torch.float16)\n",
        "float_16_tensor"
      ],
      "metadata": {
        "id": "gsNHfibDGoHQ",
        "outputId": "16fd0c3d-d55e-41f9-84c5-4efb6cfea403",
        "colab": {
          "base_uri": "https://localhost:8080/"
        }
      },
      "execution_count": 28,
      "outputs": [
        {
          "output_type": "execute_result",
          "data": {
            "text/plain": [
              "tensor([3., 6., 9.], dtype=torch.float16)"
            ]
          },
          "metadata": {},
          "execution_count": 28
        }
      ]
    },
    {
      "cell_type": "code",
      "source": [
        "product = float_32_tensor * float_16_tensor\n",
        "product"
      ],
      "metadata": {
        "id": "CMgItmlAGmRI",
        "outputId": "d82ef978-821e-4443-d2b9-c4b538f6c236",
        "colab": {
          "base_uri": "https://localhost:8080/"
        }
      },
      "execution_count": 29,
      "outputs": [
        {
          "output_type": "execute_result",
          "data": {
            "text/plain": [
              "tensor([ 9., 36., 81.])"
            ]
          },
          "metadata": {},
          "execution_count": 29
        }
      ]
    },
    {
      "cell_type": "markdown",
      "source": [
        "### Manipulating Tensors (tensor)\n",
        "\n",
        "Tensor operation includes\n",
        "* Addition\n",
        "* Subtraction\n",
        "* Multiplication (Element-wise)\n",
        "* Matrix Multiplication\n"
      ],
      "metadata": {
        "id": "UPchXF0GMI5p"
      }
    },
    {
      "cell_type": "code",
      "source": [
        "# Create a tensor and add 10\n",
        "\n",
        "tensor = torch.tensor([1,2,3])\n",
        "tensor + 10\n",
        "torch.add(tensor, 10)"
      ],
      "metadata": {
        "id": "6FeKCgKEMIhf",
        "outputId": "6de56fa3-27f9-48a1-e155-9354572fad18",
        "colab": {
          "base_uri": "https://localhost:8080/"
        }
      },
      "execution_count": 34,
      "outputs": [
        {
          "output_type": "execute_result",
          "data": {
            "text/plain": [
              "tensor([11, 12, 13])"
            ]
          },
          "metadata": {},
          "execution_count": 34
        }
      ]
    },
    {
      "cell_type": "code",
      "source": [
        "# Create a tensor and subtract 10\n",
        "\n",
        "tensor = torch.tensor([1,2,3])\n",
        "tensor - 10"
      ],
      "metadata": {
        "id": "UDjxRo6WNQxT",
        "outputId": "1b8026a5-c36d-4649-d36b-a1045ed8b655",
        "colab": {
          "base_uri": "https://localhost:8080/"
        }
      },
      "execution_count": 32,
      "outputs": [
        {
          "output_type": "execute_result",
          "data": {
            "text/plain": [
              "tensor([-9, -8, -7])"
            ]
          },
          "metadata": {},
          "execution_count": 32
        }
      ]
    },
    {
      "cell_type": "code",
      "source": [
        "# Create a tensor and multiply 10\n",
        "\n",
        "tensor = torch.tensor([1,2,3])\n",
        "tensor * 10\n",
        "\n",
        "# Try out Pytorch  in-built funcrtion\n",
        "\n",
        "torch.mul(tensor, 10)"
      ],
      "metadata": {
        "id": "byOpJHuANHe0",
        "outputId": "929c21a7-4707-41c6-fd51-1d77b6024f73",
        "colab": {
          "base_uri": "https://localhost:8080/"
        }
      },
      "execution_count": 33,
      "outputs": [
        {
          "output_type": "execute_result",
          "data": {
            "text/plain": [
              "tensor([10, 20, 30])"
            ]
          },
          "metadata": {},
          "execution_count": 33
        }
      ]
    },
    {
      "cell_type": "markdown",
      "source": [
        "### MATRIX MULTIPLICATION\n",
        "\n",
        "Two ways of multiplication in neural network and deep learning:\n",
        "1. Multiplication (element-wise)\n",
        "2. Matrix Multiplication (Dot product)\n",
        "\n",
        "\n",
        "Two main rule in matix multiplication\n",
        "1. **Inner dimension** must match\n",
        "`(3, 2) @ (3, 2)`   - won't work\n",
        "`(2, 3) @ (3, 2)`   - will work\n",
        "`(3, 2) @ (2, 3)`   - will work\n",
        "\n",
        "2. **Outer dimension*** will be the result shape of multiplying matrix\n",
        "`(3, 2) @ (3, 2)`  - >  Error\n",
        "`(2, 3) @ (3, 2)`  - > [2, 2]\n",
        "`(3, 2) @ (2, 3)`  - > [3, 3]\n"
      ],
      "metadata": {
        "id": "pnwKJEp_M8Uw"
      }
    },
    {
      "cell_type": "code",
      "source": [
        "# Element-wise Multiplication\n",
        "print(tensor, \"*\", tensor)\n",
        "print(f\"Equals: {tensor * tensor}\")"
      ],
      "metadata": {
        "id": "_5R-Ak7eN8-Q",
        "outputId": "1cf521ba-bcc0-4a44-a177-2a17356eff06",
        "colab": {
          "base_uri": "https://localhost:8080/"
        }
      },
      "execution_count": 37,
      "outputs": [
        {
          "output_type": "stream",
          "name": "stdout",
          "text": [
            "tensor([1, 2, 3]) * tensor([1, 2, 3])\n",
            "Equals: tensor([1, 4, 9])\n"
          ]
        }
      ]
    },
    {
      "cell_type": "code",
      "source": [
        "#Matrix Multiplication function\n",
        "%%time\n",
        "torch.matmul(tensor, tensor)"
      ],
      "metadata": {
        "id": "Vaqyy0EhN86n",
        "outputId": "d8e04185-dc45-4bca-ae8d-8c0946919b00",
        "colab": {
          "base_uri": "https://localhost:8080/"
        }
      },
      "execution_count": 39,
      "outputs": [
        {
          "output_type": "stream",
          "name": "stdout",
          "text": [
            "CPU times: user 478 µs, sys: 0 ns, total: 478 µs\n",
            "Wall time: 376 µs\n"
          ]
        },
        {
          "output_type": "execute_result",
          "data": {
            "text/plain": [
              "tensor(14)"
            ]
          },
          "metadata": {},
          "execution_count": 39
        }
      ]
    },
    {
      "cell_type": "code",
      "source": [
        "# Matrix Multiplication using for loop\n",
        "%%time\n",
        "value = 0;\n",
        "for i in range(len(tensor)):\n",
        "  value += tensor[i] * tensor[i]\n",
        "print(value)"
      ],
      "metadata": {
        "id": "Zx0Tz9rPN8xo",
        "outputId": "a44043f2-4940-4395-ff35-1a660583115b",
        "colab": {
          "base_uri": "https://localhost:8080/"
        }
      },
      "execution_count": 45,
      "outputs": [
        {
          "output_type": "stream",
          "name": "stdout",
          "text": [
            "tensor(14)\n",
            "CPU times: user 3.26 ms, sys: 14 µs, total: 3.27 ms\n",
            "Wall time: 2.98 ms\n"
          ]
        }
      ]
    },
    {
      "cell_type": "markdown",
      "source": [
        "***Note:*** Matrix Multiplication have less time comapre to for loop method"
      ],
      "metadata": {
        "id": "st7BG_LfPVjg"
      }
    },
    {
      "cell_type": "code",
      "source": [],
      "metadata": {
        "id": "h1jPs7zuTuXI"
      },
      "execution_count": null,
      "outputs": []
    },
    {
      "cell_type": "markdown",
      "source": [
        "### COMMON ERROR IN DEEP LEARNING: SHAPE ERROR"
      ],
      "metadata": {
        "id": "tItZ3SY1Gkzc"
      }
    },
    {
      "cell_type": "code",
      "source": [
        "tensor_A = torch.tensor([[1, 2],\n",
        "                         [3,4],\n",
        "                         [5, 6]])\n",
        "\n",
        "tensor_B = torch.tensor([[7, 10],\n",
        "                         [8, 11],\n",
        "                         [9, 12]])\n",
        "\n",
        "torch.mm(tensor_A, tensor_B)"
      ],
      "metadata": {
        "id": "uKwNal_RLpYR",
        "outputId": "77e11531-c029-46c4-c799-50350dd50c37",
        "colab": {
          "base_uri": "https://localhost:8080/",
          "height": 176
        }
      },
      "execution_count": 48,
      "outputs": [
        {
          "output_type": "error",
          "ename": "RuntimeError",
          "evalue": "mat1 and mat2 shapes cannot be multiplied (3x2 and 3x2)",
          "traceback": [
            "\u001b[0;31m---------------------------------------------------------------------------\u001b[0m",
            "\u001b[0;31mRuntimeError\u001b[0m                              Traceback (most recent call last)",
            "\u001b[0;32m<ipython-input-48-ee9f99b677f2>\u001b[0m in \u001b[0;36m<cell line: 8>\u001b[0;34m()\u001b[0m\n\u001b[1;32m      6\u001b[0m                          \u001b[0;34m[\u001b[0m\u001b[0;36m8\u001b[0m\u001b[0;34m,\u001b[0m \u001b[0;36m11\u001b[0m\u001b[0;34m]\u001b[0m\u001b[0;34m,\u001b[0m\u001b[0;34m\u001b[0m\u001b[0;34m\u001b[0m\u001b[0m\n\u001b[1;32m      7\u001b[0m                          [9, 12]])\n\u001b[0;32m----> 8\u001b[0;31m \u001b[0mtorch\u001b[0m\u001b[0;34m.\u001b[0m\u001b[0mmm\u001b[0m\u001b[0;34m(\u001b[0m\u001b[0mtensor_A\u001b[0m\u001b[0;34m,\u001b[0m \u001b[0mtensor_B\u001b[0m\u001b[0;34m)\u001b[0m\u001b[0;34m\u001b[0m\u001b[0;34m\u001b[0m\u001b[0m\n\u001b[0m",
            "\u001b[0;31mRuntimeError\u001b[0m: mat1 and mat2 shapes cannot be multiplied (3x2 and 3x2)"
          ]
        }
      ]
    },
    {
      "cell_type": "markdown",
      "source": [
        "### ***TRANSPOSE:*** to fix problem with the shape issues\n",
        "*Switches the axes or dimenstion of a given tensor\n",
        "\n"
      ],
      "metadata": {
        "id": "kX7iG2-ILpOx"
      }
    },
    {
      "cell_type": "code",
      "source": [
        "print(f\"Original tensor_B: {tensor_B}\")\n",
        "print(f\"Transposed tensor_B: {tensor_B.T}\")"
      ],
      "metadata": {
        "id": "6Bf4O2W5ZCl3",
        "outputId": "e13ad415-0992-4eea-fb79-d3ead1e795ee",
        "colab": {
          "base_uri": "https://localhost:8080/"
        }
      },
      "execution_count": 52,
      "outputs": [
        {
          "output_type": "stream",
          "name": "stdout",
          "text": [
            "Original tensor_B: tensor([[ 7, 10],\n",
            "        [ 8, 11],\n",
            "        [ 9, 12]])\n",
            "Transposed tensor_B: tensor([[ 7,  8,  9],\n",
            "        [10, 11, 12]])\n"
          ]
        }
      ]
    },
    {
      "cell_type": "code",
      "source": [
        "tensor_B.T\n",
        "torch.mm(tensor_A, tensor_B.T)"
      ],
      "metadata": {
        "id": "iP2lYo_AWNNv",
        "outputId": "e7cff71a-d75d-4c37-e32a-03530896245b",
        "colab": {
          "base_uri": "https://localhost:8080/"
        }
      },
      "execution_count": 50,
      "outputs": [
        {
          "output_type": "execute_result",
          "data": {
            "text/plain": [
              "tensor([[ 27,  30,  33],\n",
              "        [ 61,  68,  75],\n",
              "        [ 95, 106, 117]])"
            ]
          },
          "metadata": {},
          "execution_count": 50
        }
      ]
    },
    {
      "cell_type": "markdown",
      "source": [
        "### Finding the min, max, sum, mean, etc (tensor aggregation)"
      ],
      "metadata": {
        "id": "ZYDZPgv_VLYA"
      }
    },
    {
      "cell_type": "code",
      "source": [
        "x = torch.arange(1, 100, 10)\n",
        "x"
      ],
      "metadata": {
        "id": "REMHNdRmfq7_",
        "outputId": "6ded63fb-161b-4c08-d0ec-af4575bbb35d",
        "colab": {
          "base_uri": "https://localhost:8080/"
        }
      },
      "execution_count": 71,
      "outputs": [
        {
          "output_type": "execute_result",
          "data": {
            "text/plain": [
              "tensor([ 1, 11, 21, 31, 41, 51, 61, 71, 81, 91])"
            ]
          },
          "metadata": {},
          "execution_count": 71
        }
      ]
    },
    {
      "cell_type": "code",
      "source": [
        "# Get the minimum value\n",
        "torch.min(x), x.min()"
      ],
      "metadata": {
        "id": "iSOJdtunfdYI",
        "outputId": "d18539db-8309-484f-e723-c0e971e7ca36",
        "colab": {
          "base_uri": "https://localhost:8080/"
        }
      },
      "execution_count": 72,
      "outputs": [
        {
          "output_type": "execute_result",
          "data": {
            "text/plain": [
              "(tensor(1), tensor(1))"
            ]
          },
          "metadata": {},
          "execution_count": 72
        }
      ]
    },
    {
      "cell_type": "code",
      "source": [
        "# Get the max\n",
        "torch.max(x), x.max()"
      ],
      "metadata": {
        "id": "tA3uA4u1f2ta",
        "outputId": "a7a68eb0-5073-45d6-deae-81b79d37b6bb",
        "colab": {
          "base_uri": "https://localhost:8080/"
        }
      },
      "execution_count": 73,
      "outputs": [
        {
          "output_type": "execute_result",
          "data": {
            "text/plain": [
              "(tensor(91), tensor(91))"
            ]
          },
          "metadata": {},
          "execution_count": 73
        }
      ]
    },
    {
      "cell_type": "code",
      "source": [
        "#Get the sum\n",
        "torch.sum(x), x.sum()"
      ],
      "metadata": {
        "id": "E1b1WjQNhQOg",
        "outputId": "58a1844b-b540-48a9-aa89-8c360faf982f",
        "colab": {
          "base_uri": "https://localhost:8080/"
        }
      },
      "execution_count": 74,
      "outputs": [
        {
          "output_type": "execute_result",
          "data": {
            "text/plain": [
              "(tensor(460), tensor(460))"
            ]
          },
          "metadata": {},
          "execution_count": 74
        }
      ]
    },
    {
      "cell_type": "code",
      "source": [
        "# Get the average\n",
        "# Note: The mean function only accept a dtype of float or coplex datatype\n",
        "torch.mean(x.type(torch.float32)), x.type(torch.float32).mean()"
      ],
      "metadata": {
        "id": "gc987Diuf2rR",
        "outputId": "20c0dd65-07f2-4739-e201-75d283ef6a13",
        "colab": {
          "base_uri": "https://localhost:8080/"
        }
      },
      "execution_count": 75,
      "outputs": [
        {
          "output_type": "execute_result",
          "data": {
            "text/plain": [
              "(tensor(46.), tensor(46.))"
            ]
          },
          "metadata": {},
          "execution_count": 75
        }
      ]
    },
    {
      "cell_type": "markdown",
      "source": [
        "### FINDING THE POSITIONAL min AND max"
      ],
      "metadata": {
        "id": "DNQgOC7hf2o5"
      }
    },
    {
      "cell_type": "code",
      "source": [
        "x"
      ],
      "metadata": {
        "id": "SOo3bMd2fdMf",
        "outputId": "b673a554-f8ae-4c3d-d7c1-f57914d07209",
        "colab": {
          "base_uri": "https://localhost:8080/"
        }
      },
      "execution_count": 78,
      "outputs": [
        {
          "output_type": "execute_result",
          "data": {
            "text/plain": [
              "tensor([ 1, 11, 21, 31, 41, 51, 61, 71, 81, 91])"
            ]
          },
          "metadata": {},
          "execution_count": 78
        }
      ]
    },
    {
      "cell_type": "code",
      "source": [
        "# Find the position of min and max in tensor\n",
        "print(f\"Position of min: {x.argmin()}\")\n",
        "print(f\"Position of Max: {x.argmax()}\")\n"
      ],
      "metadata": {
        "id": "3Cqrrt15i4qy",
        "outputId": "d0b12a98-d437-4306-e453-7a24277ec83a",
        "colab": {
          "base_uri": "https://localhost:8080/"
        }
      },
      "execution_count": 84,
      "outputs": [
        {
          "output_type": "stream",
          "name": "stdout",
          "text": [
            "Position of min: 0\n",
            "Position of Max: 9\n",
            "Position of average: tensor([], size=(1, 0), dtype=torch.int64)\n"
          ]
        }
      ]
    },
    {
      "cell_type": "markdown",
      "source": [
        "## Reshaping, stacking, squeezing and unsqueezing tensors\n",
        "\n",
        "* Reshaping - reshapes an input tensor to a defined shape\n",
        "* View - Return a view of an input tensor of certain shape but keep the same memory as the original tensor\n",
        "* Stacking - combine multiple tensors on top of each other (vstack) or side by side (hstack)\n",
        "* Squeeze - remove all `1` dimensions from a tensor\n",
        "* Unsqueeze - add a `1` dimension to a target tensor\n",
        "* Permute - Return a view of the input with dimensions permuted (swapped) in a certain way\n",
        "\n"
      ],
      "metadata": {
        "id": "YI36bOIbjDee"
      }
    },
    {
      "cell_type": "code",
      "source": [
        "import torch\n",
        "x = torch. arange(1., 10.)\n",
        "x, x.shape"
      ],
      "metadata": {
        "id": "r5snYpycjVu-",
        "outputId": "0eb5b396-a654-41de-cd28-fcaa88d825fb",
        "colab": {
          "base_uri": "https://localhost:8080/"
        }
      },
      "execution_count": 91,
      "outputs": [
        {
          "output_type": "execute_result",
          "data": {
            "text/plain": [
              "(tensor([1., 2., 3., 4., 5., 6., 7., 8., 9.]), torch.Size([9]))"
            ]
          },
          "metadata": {},
          "execution_count": 91
        }
      ]
    },
    {
      "cell_type": "code",
      "source": [
        "x_reshaped = x.reshape(1, 9)\n",
        "x_reshaped, x_reshaped.shape"
      ],
      "metadata": {
        "id": "8BiOUoIJlzhK",
        "outputId": "680af723-bc91-426c-8bb4-3b48ceb138e3",
        "colab": {
          "base_uri": "https://localhost:8080/"
        }
      },
      "execution_count": 92,
      "outputs": [
        {
          "output_type": "execute_result",
          "data": {
            "text/plain": [
              "(tensor([[1., 2., 3., 4., 5., 6., 7., 8., 9.]]), torch.Size([1, 9]))"
            ]
          },
          "metadata": {},
          "execution_count": 92
        }
      ]
    },
    {
      "cell_type": "code",
      "source": [],
      "metadata": {
        "id": "htg7yF2RmB-4"
      },
      "execution_count": null,
      "outputs": []
    }
  ]
}