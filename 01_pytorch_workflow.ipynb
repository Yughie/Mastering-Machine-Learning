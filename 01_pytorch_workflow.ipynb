{
  "nbformat": 4,
  "nbformat_minor": 0,
  "metadata": {
    "colab": {
      "provenance": []
    },
    "kernelspec": {
      "name": "python3",
      "display_name": "Python 3"
    },
    "language_info": {
      "name": "python"
    }
  },
  "cells": [
    {
      "cell_type": "markdown",
      "source": [
        "### PYTORCH WORKFLOW\n",
        "\n",
        "Cover to topic:\n",
        "1. Prepare the data\n",
        "2. Build model\n",
        "3. Fitting the model to data (training)\n",
        "4. Making prediction and evaluating a model (Inference)\n",
        "5. Putting it all together\n"
      ],
      "metadata": {
        "id": "UhC-vnUzjGf1"
      }
    },
    {
      "cell_type": "code",
      "source": [
        "import torch\n",
        "from torch import nn #contain all of PyTorch's building blocks for neural networks\n",
        "import matplotlib.pyplot as plt\n",
        "\n",
        "torch.__version__"
      ],
      "metadata": {
        "colab": {
          "base_uri": "https://localhost:8080/",
          "height": 35
        },
        "id": "z6zKXJPRkkNq",
        "outputId": "fe330627-65b7-4b05-bd33-9358231411bf"
      },
      "execution_count": 1,
      "outputs": [
        {
          "output_type": "execute_result",
          "data": {
            "text/plain": [
              "'2.5.1+cu121'"
            ],
            "application/vnd.google.colaboratory.intrinsic+json": {
              "type": "string"
            }
          },
          "metadata": {},
          "execution_count": 1
        }
      ]
    },
    {
      "cell_type": "markdown",
      "source": [
        "## 1. DATA (PREPARING AND LOADING)\n",
        "\n",
        "data can be almost anything... in machine learning.\n",
        "\n",
        "*Excel spreadsheet\n",
        "* Images of any kind\n",
        "* Videos\n",
        "* Audio like song or podcasts\n",
        "* DNA\n",
        "* Text\n",
        "\n",
        "Machine learning is a game of two parts:\n",
        "1. Get data and convert into a numerical representation(tensors)\n",
        "2. Build a model to learn patterns in that numerical representation\n",
        "\n",
        "To showcase this, I will create a *known* data using the **linear regression formula**\n",
        "\n",
        "We'll use a linear regression formula to make a straight line with known parameters.\n",
        "\n"
      ],
      "metadata": {
        "id": "KmQjgwMRkkJi"
      }
    },
    {
      "cell_type": "code",
      "source": [
        "# Create *known* parameters\n",
        "weight = 0.7\n",
        "bias = 0.3\n",
        "\n",
        "# Create data\n",
        "start = 0\n",
        "end = 1\n",
        "step = 0.02\n",
        "\n",
        "\n",
        "X = torch.arange(start, end, step).unsqueeze(dim=1)\n",
        "y = weight * X + bias\n",
        "\n",
        "X[:10], y[:10]"
      ],
      "metadata": {
        "colab": {
          "base_uri": "https://localhost:8080/"
        },
        "id": "cRvWpdzMkkHk",
        "outputId": "e9b28705-ee3d-4bba-e116-26fd9621cc79"
      },
      "execution_count": 2,
      "outputs": [
        {
          "output_type": "execute_result",
          "data": {
            "text/plain": [
              "(tensor([[0.0000],\n",
              "         [0.0200],\n",
              "         [0.0400],\n",
              "         [0.0600],\n",
              "         [0.0800],\n",
              "         [0.1000],\n",
              "         [0.1200],\n",
              "         [0.1400],\n",
              "         [0.1600],\n",
              "         [0.1800]]),\n",
              " tensor([[0.3000],\n",
              "         [0.3140],\n",
              "         [0.3280],\n",
              "         [0.3420],\n",
              "         [0.3560],\n",
              "         [0.3700],\n",
              "         [0.3840],\n",
              "         [0.3980],\n",
              "         [0.4120],\n",
              "         [0.4260]]))"
            ]
          },
          "metadata": {},
          "execution_count": 2
        }
      ]
    },
    {
      "cell_type": "code",
      "source": [
        "len(X), len (y)"
      ],
      "metadata": {
        "colab": {
          "base_uri": "https://localhost:8080/"
        },
        "id": "pZSZ9_P5kkFJ",
        "outputId": "c21a7856-86e5-44fe-d321-53a3fb24027a"
      },
      "execution_count": 3,
      "outputs": [
        {
          "output_type": "execute_result",
          "data": {
            "text/plain": [
              "(50, 50)"
            ]
          },
          "metadata": {},
          "execution_count": 3
        }
      ]
    },
    {
      "cell_type": "code",
      "source": [
        "# Create a train/ test split\n",
        "\n",
        "train_split = int(0.8 * len(X)) #80% of data\n",
        "X_train, y_train = X[:train_split], y[:train_split]\n",
        "X_test, y_test = X[train_split:], y[train_split:]\n",
        "\n",
        "len(X_train), len(y_train), len(X_test), len(y_test)"
      ],
      "metadata": {
        "colab": {
          "base_uri": "https://localhost:8080/"
        },
        "id": "u1B02HDFkkC8",
        "outputId": "ed3565e7-7a53-41e3-952b-ce5f3559ea91"
      },
      "execution_count": 4,
      "outputs": [
        {
          "output_type": "execute_result",
          "data": {
            "text/plain": [
              "(40, 40, 10, 10)"
            ]
          },
          "metadata": {},
          "execution_count": 4
        }
      ]
    },
    {
      "cell_type": "markdown",
      "source": [
        "How might we better visualize our data?\n",
        "\n",
        "\"Visualize! Visualize! Visualize!\""
      ],
      "metadata": {
        "id": "2PfcWPJckkAy"
      }
    },
    {
      "cell_type": "code",
      "source": [
        "def plot_prediction(train_data = X_train,\n",
        "                    train_labels= y_train,\n",
        "                    test_data = X_test,\n",
        "                    test_labels = y_test,\n",
        "                    predictions = None):\n",
        "\n",
        "# Plots training data, test data and compares predictions.\n",
        "  plt.figure(figsize=(8, 5))\n",
        "\n",
        "  # Plot training data in blue (train x and y)\n",
        "  plt.scatter(train_data, train_labels, c=\"b\", s=4, label=\"Training data\")\n",
        "\n",
        "  # Purely for test data x and y\n",
        "  plt.scatter(test_data, test_labels, c=\"g\", s=4, label=\"Testing data\")\n",
        "\n",
        "  if predictions is not None:\n",
        "      # Plot prediction if it exist\n",
        "      plt.scatter(test_data, predictions, c=\"r\", s=4, label=\"Predictions\")\n",
        "\n",
        "  # Show the legend\n",
        "  plt.legend(prop={\"size\": 12})"
      ],
      "metadata": {
        "id": "BaBfFysSkj-u"
      },
      "execution_count": 27,
      "outputs": []
    },
    {
      "cell_type": "code",
      "source": [
        "plot_prediction()"
      ],
      "metadata": {
        "colab": {
          "base_uri": "https://localhost:8080/",
          "height": 445
        },
        "id": "a8wUVE9Ckj8V",
        "outputId": "66de7233-8804-47bf-e1b6-708d6c00bf60"
      },
      "execution_count": 28,
      "outputs": [
        {
          "output_type": "display_data",
          "data": {
            "text/plain": [
              "<Figure size 800x500 with 1 Axes>"
            ],
            "image/png": "[encoded data removed]"
          },
          "metadata": {}
        }
      ]
    },
    {
      "cell_type": "markdown",
      "source": [
        "## Building model\n",
        "\n",
        "This will be my first PyTorch model\n",
        "\n",
        "What our model does:\n",
        "* Start with random values (weight & bias)\n",
        "* Look at training data and adjust the random values to better represent(or get closer to) the ideal values (the weight & bias values we used to create the data)\n",
        "\n",
        "How does it do so?\n",
        "\n",
        "Through two main algorithm:\n",
        "1. Gradient descent - https://www.youtube.com/watch?v=IHZwWFHWa-w\n",
        "2. Backpropogation - https://www.youtube.com/watch?v=Ilg3gGewQ5U\n"
      ],
      "metadata": {
        "id": "wESBOo-jkj6h"
      }
    },
    {
      "cell_type": "code",
      "source": [
        "# Create linear regression model class\n",
        "\n",
        "class LinearRegressionModel(nn.Module): # <- almost everthing in PyTorch inherits from nn.Module\n",
        "  def __init__(self):\n",
        "    super().__init__()\n",
        "    # Use nn.Linear()\n",
        "    self.weights = nn.Parameter(torch.randn(1,\n",
        "                                            requires_grad=True,\n",
        "                                            dtype=torch.float))\n",
        "    self.bias = nn.Parameter(torch.randn(1,\n",
        "                                         requires_grad=True,\n",
        "                                         dtype=torch.float))\n",
        "  def forward(self, x: torch.Tensor) -> torch.Tensor:\n",
        "    return self.weights * x + self.bias #Linear regression formula\n",
        "\n",
        "\n"
      ],
      "metadata": {
        "id": "b9GdgDEZkj4B"
      },
      "execution_count": 43,
      "outputs": []
    },
    {
      "cell_type": "markdown",
      "source": [
        "### PYTORCH MODEL BUILDSING ESSENTIALS\n",
        "\n",
        "* torch.nn - contains all the buildings for computational graphs (Neural network are consider as computational graph)\n",
        "* torch.nn.Parameter - what parameters should our model try and learn, often a Pytorch layer from torch.nn will set these for us\n",
        "*torch.nn.Module - The base class for all neural network module, if you subclass it, you should overwrite forward()\n",
        "* torch.optim - this where the optimizers in PyTorch live, they will help with gradient decent\n",
        "*def forward() - all nn.Module subclasses require you to overwrite forward(), this method where you define the computation\n"
      ],
      "metadata": {
        "id": "20N111xMkj2F"
      }
    },
    {
      "cell_type": "markdown",
      "source": [
        "## Checking the contents of our PyTorch model\n",
        "\n",
        "Now that we created a model, lets see what's inside...\n",
        "we can check the model's parameters or whats inside our model using .parameters()."
      ],
      "metadata": {
        "id": "Bm3MLPUlkj0B"
      }
    },
    {
      "cell_type": "code",
      "source": [
        "# Create a random seed\n",
        "torch.manual_seed(42)\n",
        "\n",
        "# Create a intance of the model\n",
        "model_0 = LinearRegressionModel()\n",
        "\n",
        "list(model_0.parameters())"
      ],
      "metadata": {
        "id": "_Q0phYPqkjyD",
        "outputId": "c3df2383-a828-4225-e1b9-edfebedf9e2e",
        "colab": {
          "base_uri": "https://localhost:8080/"
        }
      },
      "execution_count": 44,
      "outputs": [
        {
          "output_type": "execute_result",
          "data": {
            "text/plain": [
              "[Parameter containing:\n",
              " tensor([0.3367], requires_grad=True),\n",
              " Parameter containing:\n",
              " tensor([0.1288], requires_grad=True)]"
            ]
          },
          "metadata": {},
          "execution_count": 44
        }
      ]
    },
    {
      "cell_type": "code",
      "source": [
        "## list our parameters\n",
        "model_0.state_dict(), #dictionary\n"
      ],
      "metadata": {
        "id": "ZsbF3S9_kjv0",
        "outputId": "525c1b5b-72b6-4cad-d889-3d005ebaa57b",
        "colab": {
          "base_uri": "https://localhost:8080/"
        }
      },
      "execution_count": 45,
      "outputs": [
        {
          "output_type": "execute_result",
          "data": {
            "text/plain": [
              "(OrderedDict([('weights', tensor([0.3367])), ('bias', tensor([0.1288]))]),)"
            ]
          },
          "metadata": {},
          "execution_count": 45
        }
      ]
    },
    {
      "cell_type": "markdown",
      "source": [
        "### Making prediction using `torch.inference_mode()`\n",
        "\n",
        "To check out our model's prediction power, let's see how well it predicts `y_test` based on `X_test`\n",
        "\n",
        "When we pass data through our model, it's going to run it through the `forward()`"
      ],
      "metadata": {
        "id": "4Om3N9avkjuC"
      }
    },
    {
      "cell_type": "code",
      "source": [
        "# Make prediction with model\n",
        "\n",
        "with torch.inference_mode(): #Diable the gradient decent and other stuff to make computation of data faster\n",
        "  y_preds = model_0(X_test)\n",
        "\n",
        "y_preds  #Because our weight and bias is randomize at the model our model wasn't able to predict the value of y_test"
      ],
      "metadata": {
        "id": "OtRgPv0mkjry",
        "outputId": "68850d1c-d982-4168-b3e0-ad688f82e14f",
        "colab": {
          "base_uri": "https://localhost:8080/"
        }
      },
      "execution_count": 46,
      "outputs": [
        {
          "output_type": "execute_result",
          "data": {
            "text/plain": [
              "tensor([[0.3982],\n",
              "        [0.4049],\n",
              "        [0.4116],\n",
              "        [0.4184],\n",
              "        [0.4251],\n",
              "        [0.4318],\n",
              "        [0.4386],\n",
              "        [0.4453],\n",
              "        [0.4520],\n",
              "        [0.4588]])"
            ]
          },
          "metadata": {},
          "execution_count": 46
        }
      ]
    },
    {
      "cell_type": "code",
      "source": [
        "#Our target value is the value of y_test\n",
        "y_test # compare to the y_preds their is still configuration we need to make our model accurate"
      ],
      "metadata": {
        "id": "NIBTYFweb4O6",
        "outputId": "0a054628-9b99-4c9a-d4d0-e82d3dc4c8c4",
        "colab": {
          "base_uri": "https://localhost:8080/"
        }
      },
      "execution_count": 47,
      "outputs": [
        {
          "output_type": "execute_result",
          "data": {
            "text/plain": [
              "tensor([[0.8600],\n",
              "        [0.8740],\n",
              "        [0.8880],\n",
              "        [0.9020],\n",
              "        [0.9160],\n",
              "        [0.9300],\n",
              "        [0.9440],\n",
              "        [0.9580],\n",
              "        [0.9720],\n",
              "        [0.9860]])"
            ]
          },
          "metadata": {},
          "execution_count": 47
        }
      ]
    },
    {
      "cell_type": "code",
      "source": [
        "plot_prediction(predictions=y_preds) #"
      ],
      "metadata": {
        "id": "XWfY3Xjdkjpq",
        "outputId": "c7e98d1b-00fb-4eca-fce6-2e9a82ea4b2b",
        "colab": {
          "base_uri": "https://localhost:8080/",
          "height": 445
        }
      },
      "execution_count": 48,
      "outputs": [
        {
          "output_type": "display_data",
          "data": {
            "text/plain": [
              "<Figure size 800x500 with 1 Axes>"
            ],
            "image/png": "[encoded data removed]"
          },
          "metadata": {}
        }
      ]
    },
    {
      "cell_type": "markdown",
      "source": [
        "## 3. TRAINING OUR MODEL\n",
        "\n",
        "The goal of this training is for our model *unknown* parameter move to some known parameters.\n",
        "\n",
        "One way to measure how poor or how wrong our models predication are, is to use PyTorch loss function.\n",
        "\n",
        "* **NOTE:** Loss funtion can also be called cost function or criterion.\n",
        "\n",
        "**Loss Function** is to measure how wrong your model's prediction to the ideal outputs.\n",
        "\n",
        "**Optimizer:** Takes into account the loss function of a model and adjust the model's parameter( e.g. weight & bias ) to improve the loss function\n",
        "  * Two parameters of optimizer:\n",
        "      \n",
        "      * params - the model parameter you'd like to optimize, for example `params=model_0.parameters()`\n",
        "\n",
        "      * lr(learning rate) - A hyoperparameter that defines how big/small the optimizer changes the parameters with each step(a small lr result in small changes, a large lr result in large changes)\n",
        "\n",
        "\n",
        "For this, we need:\n",
        "* A Training loop\n",
        "* A Testing loop\n",
        "\n"
      ],
      "metadata": {
        "id": "CbAT4LB1kjnJ"
      }
    },
    {
      "cell_type": "code",
      "source": [
        "list(model_0.parameters())"
      ],
      "metadata": {
        "id": "BX2106pEkjky",
        "outputId": "f6777d1d-b596-4e26-a2d5-40a1d86ce54a",
        "colab": {
          "base_uri": "https://localhost:8080/"
        }
      },
      "execution_count": 50,
      "outputs": [
        {
          "output_type": "execute_result",
          "data": {
            "text/plain": [
              "[Parameter containing:\n",
              " tensor([0.3367], requires_grad=True),\n",
              " Parameter containing:\n",
              " tensor([0.1288], requires_grad=True)]"
            ]
          },
          "metadata": {},
          "execution_count": 50
        }
      ]
    },
    {
      "cell_type": "code",
      "source": [
        "# Check out our models parameters (A parameter is a value that the model sets itself)\n",
        "model_0.state_dict()"
      ],
      "metadata": {
        "id": "cLFdu7vXkjiE",
        "outputId": "a406ca05-6ae9-43c8-9bcc-919f22f2e053",
        "colab": {
          "base_uri": "https://localhost:8080/"
        }
      },
      "execution_count": 53,
      "outputs": [
        {
          "output_type": "execute_result",
          "data": {
            "text/plain": [
              "OrderedDict([('weights', tensor([0.3367])), ('bias', tensor([0.1288]))])"
            ]
          },
          "metadata": {},
          "execution_count": 53
        }
      ]
    },
    {
      "cell_type": "code",
      "source": [
        "# Setup a loss function\n",
        "\n",
        "loss_fn = nn.L1Loss()\n",
        "\n",
        "\n",
        "# Setup an optimizer  (stochastic gradient descent)\n",
        "\n",
        "optimizer = torch.optim.SGD(params = model_0.parameters(),\n",
        "                            lr = 0.01) #Learning rate = possible the most important hyperparameter you can set\n",
        "#\n",
        "\n"
      ],
      "metadata": {
        "id": "vY144d_Mkj0w"
      },
      "execution_count": null,
      "outputs": []
    },
    {
      "cell_type": "markdown",
      "source": [
        "### BUILDING A TRAINING AND TESTING LOOP IN PYTORCH\n",
        "\n",
        "Steps:\n",
        "0. Loop through the data\n",
        "1. Forward pass (This involves moving through our model's `forward()` method) - also called forward propogation\n",
        "2. Calculate the loss (compare forward pass prediction to ground truth labels)\n",
        "3. Optimizer zero grad\n",
        "4. Loss backward - move backwards through the network to calculate the gradients of each of the parameters of our model with respect to the loss (**backpropogation**)\n",
        "5. Optimzer step - use the optimizer to adjust our model's parameter to try and improve the loss (**gradient descent**)"
      ],
      "metadata": {
        "id": "kJLw09im220v"
      }
    },
    {
      "cell_type": "code",
      "source": [
        "# epochs\n",
        "epochs = 1\n",
        "# an epoch is one loop through the data...\n",
        "\n",
        "# Step 0.\n",
        "for epoch in range(epochs):\n",
        "  # set the model to training mode\n",
        "  model_0.train() #Train mode in Py Torch set all parameters that require gradients that require gradients\n",
        "\n",
        "  model_0.eval() # turn off gradient tracking\n",
        "\n",
        "\n"
      ],
      "metadata": {
        "id": "3gIbofMr22yy"
      },
      "execution_count": null,
      "outputs": []
    },
    {
      "cell_type": "code",
      "source": [],
      "metadata": {
        "id": "ZXpTuL5d22wt"
      },
      "execution_count": null,
      "outputs": []
    },
    {
      "cell_type": "code",
      "source": [],
      "metadata": {
        "id": "tmIgH7fr22uy"
      },
      "execution_count": null,
      "outputs": []
    },
    {
      "cell_type": "code",
      "source": [],
      "metadata": {
        "id": "NiuNoqgB22sr"
      },
      "execution_count": null,
      "outputs": []
    },
    {
      "cell_type": "code",
      "source": [],
      "metadata": {
        "id": "oy8_23Hn22qi"
      },
      "execution_count": null,
      "outputs": []
    },
    {
      "cell_type": "code",
      "source": [],
      "metadata": {
        "id": "NhDAwxNw22oi"
      },
      "execution_count": null,
      "outputs": []
    },
    {
      "cell_type": "code",
      "source": [],
      "metadata": {
        "id": "sojNtHlo22mC"
      },
      "execution_count": null,
      "outputs": []
    },
    {
      "cell_type": "code",
      "source": [],
      "metadata": {
        "id": "750qpbws22jT"
      },
      "execution_count": null,
      "outputs": []
    }
  ]
}